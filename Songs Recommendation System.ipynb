{
 "cells": [
  {
   "cell_type": "code",
   "execution_count": 1,
   "metadata": {},
   "outputs": [],
   "source": [
    "import pandas as pd \n",
    "import numpy as np \n",
    "import matplotlib.pyplot as plt\n",
    "import seaborn as sns\n",
    "import plotly.express as px\n",
    "from sklearn.metrics import silhouette_score\n",
    "from sklearn.cluster import KMeans\n",
    "from scipy.spatial import distance\n",
    "import warnings\n",
    "warnings.filterwarnings('ignore')"
   ]
  },
  {
   "cell_type": "markdown",
   "metadata": {},
   "source": [
    "## **Read Dataset**"
   ]
  },
  {
   "cell_type": "code",
   "execution_count": 2,
   "metadata": {},
   "outputs": [
    {
     "data": {
      "text/html": [
       "<div>\n",
       "<style scoped>\n",
       "    .dataframe tbody tr th:only-of-type {\n",
       "        vertical-align: middle;\n",
       "    }\n",
       "\n",
       "    .dataframe tbody tr th {\n",
       "        vertical-align: top;\n",
       "    }\n",
       "\n",
       "    .dataframe thead th {\n",
       "        text-align: right;\n",
       "    }\n",
       "</style>\n",
       "<table border=\"1\" class=\"dataframe\">\n",
       "  <thead>\n",
       "    <tr style=\"text-align: right;\">\n",
       "      <th></th>\n",
       "      <th>id</th>\n",
       "      <th>year</th>\n",
       "      <th>album</th>\n",
       "      <th>song</th>\n",
       "      <th>danceability</th>\n",
       "      <th>energy</th>\n",
       "      <th>speechiness</th>\n",
       "      <th>acousticness</th>\n",
       "      <th>liveness</th>\n",
       "      <th>valence</th>\n",
       "      <th>duration_ms</th>\n",
       "    </tr>\n",
       "  </thead>\n",
       "  <tbody>\n",
       "    <tr>\n",
       "      <th>0</th>\n",
       "      <td>1</td>\n",
       "      <td>1963</td>\n",
       "      <td>Please Please Me</td>\n",
       "      <td>I Saw Her Standing There</td>\n",
       "      <td>0.491</td>\n",
       "      <td>0.801</td>\n",
       "      <td>0.0361</td>\n",
       "      <td>0.2700</td>\n",
       "      <td>0.0665</td>\n",
       "      <td>0.971</td>\n",
       "      <td>173947</td>\n",
       "    </tr>\n",
       "    <tr>\n",
       "      <th>1</th>\n",
       "      <td>2</td>\n",
       "      <td>1963</td>\n",
       "      <td>Please Please Me</td>\n",
       "      <td>Misery</td>\n",
       "      <td>0.591</td>\n",
       "      <td>0.605</td>\n",
       "      <td>0.0413</td>\n",
       "      <td>0.7070</td>\n",
       "      <td>0.3090</td>\n",
       "      <td>0.882</td>\n",
       "      <td>108547</td>\n",
       "    </tr>\n",
       "    <tr>\n",
       "      <th>2</th>\n",
       "      <td>3</td>\n",
       "      <td>1963</td>\n",
       "      <td>Please Please Me</td>\n",
       "      <td>Anna</td>\n",
       "      <td>0.608</td>\n",
       "      <td>0.565</td>\n",
       "      <td>0.0336</td>\n",
       "      <td>0.6350</td>\n",
       "      <td>0.0601</td>\n",
       "      <td>0.835</td>\n",
       "      <td>177133</td>\n",
       "    </tr>\n",
       "    <tr>\n",
       "      <th>3</th>\n",
       "      <td>4</td>\n",
       "      <td>1963</td>\n",
       "      <td>Please Please Me</td>\n",
       "      <td>Chains</td>\n",
       "      <td>0.654</td>\n",
       "      <td>0.561</td>\n",
       "      <td>0.0304</td>\n",
       "      <td>0.6080</td>\n",
       "      <td>0.1290</td>\n",
       "      <td>0.929</td>\n",
       "      <td>145080</td>\n",
       "    </tr>\n",
       "    <tr>\n",
       "      <th>4</th>\n",
       "      <td>5</td>\n",
       "      <td>1963</td>\n",
       "      <td>Please Please Me</td>\n",
       "      <td>Boys</td>\n",
       "      <td>0.402</td>\n",
       "      <td>0.86</td>\n",
       "      <td>0.0504</td>\n",
       "      <td>0.6070</td>\n",
       "      <td>0.7360</td>\n",
       "      <td>0.822</td>\n",
       "      <td>146440</td>\n",
       "    </tr>\n",
       "    <tr>\n",
       "      <th>...</th>\n",
       "      <td>...</td>\n",
       "      <td>...</td>\n",
       "      <td>...</td>\n",
       "      <td>...</td>\n",
       "      <td>...</td>\n",
       "      <td>...</td>\n",
       "      <td>...</td>\n",
       "      <td>...</td>\n",
       "      <td>...</td>\n",
       "      <td>...</td>\n",
       "      <td>...</td>\n",
       "    </tr>\n",
       "    <tr>\n",
       "      <th>188</th>\n",
       "      <td>189</td>\n",
       "      <td>1970</td>\n",
       "      <td>Let It Be</td>\n",
       "      <td>ive got a feeling</td>\n",
       "      <td>0.440</td>\n",
       "      <td>0.609</td>\n",
       "      <td>0.0358</td>\n",
       "      <td>0.0715</td>\n",
       "      <td>0.5820</td>\n",
       "      <td>0.364</td>\n",
       "      <td>217560</td>\n",
       "    </tr>\n",
       "    <tr>\n",
       "      <th>189</th>\n",
       "      <td>190</td>\n",
       "      <td>1970</td>\n",
       "      <td>Let It Be</td>\n",
       "      <td>one after 909</td>\n",
       "      <td>0.554</td>\n",
       "      <td>0.828</td>\n",
       "      <td>0.0739</td>\n",
       "      <td>0.0307</td>\n",
       "      <td>0.9070</td>\n",
       "      <td>0.888</td>\n",
       "      <td>173960</td>\n",
       "    </tr>\n",
       "    <tr>\n",
       "      <th>190</th>\n",
       "      <td>191</td>\n",
       "      <td>1970</td>\n",
       "      <td>Let It Be</td>\n",
       "      <td>the long and winding road</td>\n",
       "      <td>0.299</td>\n",
       "      <td>0.329</td>\n",
       "      <td>0.0279</td>\n",
       "      <td>0.7560</td>\n",
       "      <td>0.0559</td>\n",
       "      <td>0.392</td>\n",
       "      <td>218187</td>\n",
       "    </tr>\n",
       "    <tr>\n",
       "      <th>191</th>\n",
       "      <td>192</td>\n",
       "      <td>1970</td>\n",
       "      <td>Let It Be</td>\n",
       "      <td>for you blue</td>\n",
       "      <td>0.880</td>\n",
       "      <td>0.556</td>\n",
       "      <td>0.0855</td>\n",
       "      <td>0.2400</td>\n",
       "      <td>0.2400</td>\n",
       "      <td>0.955</td>\n",
       "      <td>152213</td>\n",
       "    </tr>\n",
       "    <tr>\n",
       "      <th>192</th>\n",
       "      <td>193</td>\n",
       "      <td>1970</td>\n",
       "      <td>Let It Be</td>\n",
       "      <td>get back</td>\n",
       "      <td>0.761</td>\n",
       "      <td>0.592</td>\n",
       "      <td>0.0586</td>\n",
       "      <td>0.4920</td>\n",
       "      <td>0.6100</td>\n",
       "      <td>0.332</td>\n",
       "      <td>189387</td>\n",
       "    </tr>\n",
       "  </tbody>\n",
       "</table>\n",
       "<p>193 rows × 11 columns</p>\n",
       "</div>"
      ],
      "text/plain": [
       "      id  year             album                       song  danceability  \\\n",
       "0      1  1963  Please Please Me   I Saw Her Standing There         0.491   \n",
       "1      2  1963  Please Please Me                     Misery         0.591   \n",
       "2      3  1963  Please Please Me                       Anna         0.608   \n",
       "3      4  1963  Please Please Me                     Chains         0.654   \n",
       "4      5  1963  Please Please Me                       Boys         0.402   \n",
       "..   ...   ...               ...                        ...           ...   \n",
       "188  189  1970         Let It Be          ive got a feeling         0.440   \n",
       "189  190  1970         Let It Be              one after 909         0.554   \n",
       "190  191  1970         Let It Be  the long and winding road         0.299   \n",
       "191  192  1970         Let It Be               for you blue         0.880   \n",
       "192  193  1970         Let It Be                   get back         0.761   \n",
       "\n",
       "    energy  speechiness  acousticness  liveness  valence  duration_ms  \n",
       "0    0.801       0.0361        0.2700    0.0665    0.971       173947  \n",
       "1    0.605       0.0413        0.7070    0.3090    0.882       108547  \n",
       "2    0.565       0.0336        0.6350    0.0601    0.835       177133  \n",
       "3    0.561       0.0304        0.6080    0.1290    0.929       145080  \n",
       "4     0.86       0.0504        0.6070    0.7360    0.822       146440  \n",
       "..     ...          ...           ...       ...      ...          ...  \n",
       "188  0.609       0.0358        0.0715    0.5820    0.364       217560  \n",
       "189  0.828       0.0739        0.0307    0.9070    0.888       173960  \n",
       "190  0.329       0.0279        0.7560    0.0559    0.392       218187  \n",
       "191  0.556       0.0855        0.2400    0.2400    0.955       152213  \n",
       "192  0.592       0.0586        0.4920    0.6100    0.332       189387  \n",
       "\n",
       "[193 rows x 11 columns]"
      ]
     },
     "execution_count": 2,
     "metadata": {},
     "output_type": "execute_result"
    }
   ],
   "source": [
    "df=pd.read_csv(\"D:\\\\Bassma wahba\\\\Session 18-20240420T135230Z-001\\\\Session 18\\\\Dataset\\\\Online Group\\\\songs.csv\")\n",
    "df"
   ]
  },
  {
   "cell_type": "code",
   "execution_count": 3,
   "metadata": {},
   "outputs": [
    {
     "name": "stdout",
     "output_type": "stream",
     "text": [
      "<class 'pandas.core.frame.DataFrame'>\n",
      "RangeIndex: 193 entries, 0 to 192\n",
      "Data columns (total 11 columns):\n",
      " #   Column        Non-Null Count  Dtype  \n",
      "---  ------        --------------  -----  \n",
      " 0   id            193 non-null    int64  \n",
      " 1   year          193 non-null    int64  \n",
      " 2   album         193 non-null    object \n",
      " 3   song          193 non-null    object \n",
      " 4   danceability  193 non-null    float64\n",
      " 5   energy        193 non-null    object \n",
      " 6   speechiness   193 non-null    float64\n",
      " 7   acousticness  193 non-null    float64\n",
      " 8   liveness      193 non-null    float64\n",
      " 9   valence       193 non-null    float64\n",
      " 10  duration_ms   193 non-null    int64  \n",
      "dtypes: float64(5), int64(3), object(3)\n",
      "memory usage: 16.7+ KB\n"
     ]
    }
   ],
   "source": [
    "df.info()"
   ]
  },
  {
   "cell_type": "code",
   "execution_count": 4,
   "metadata": {},
   "outputs": [],
   "source": [
    "df['energy']=df['energy'].str.replace(')','').astype('float64')"
   ]
  },
  {
   "cell_type": "code",
   "execution_count": 5,
   "metadata": {},
   "outputs": [
    {
     "data": {
      "text/plain": [
       "id                int64\n",
       "year              int64\n",
       "album            object\n",
       "song             object\n",
       "danceability    float64\n",
       "energy          float64\n",
       "speechiness     float64\n",
       "acousticness    float64\n",
       "liveness        float64\n",
       "valence         float64\n",
       "duration_ms       int64\n",
       "dtype: object"
      ]
     },
     "execution_count": 5,
     "metadata": {},
     "output_type": "execute_result"
    }
   ],
   "source": [
    "df.dtypes"
   ]
  },
  {
   "cell_type": "markdown",
   "metadata": {},
   "source": [
    "## **Exploration Data Analysis**"
   ]
  },
  {
   "cell_type": "code",
   "execution_count": 6,
   "metadata": {},
   "outputs": [
    {
     "data": {
      "image/png": "[encoded data removed]",
      "text/plain": [
       "<Figure size 2000x1000 with 1 Axes>"
      ]
     },
     "metadata": {},
     "output_type": "display_data"
    }
   ],
   "source": [
    "plt.figure(figsize=(20,10))\n",
    "sns.histplot(x=df['album'],hue=df['album'],legend=True)\n",
    "plt.title('Amount of song per albums')\n",
    "plt.xticks(rotation=90)\n",
    "plt.show()"
   ]
  },
  {
   "cell_type": "code",
   "execution_count": 9,
   "metadata": {},
   "outputs": [],
   "source": [
    "# Elbow method for two features\n",
    "scores=[]\n",
    "for i in range(1,11):\n",
    "    kmeans=KMeans(n_clusters=i,random_state=42)\n",
    "    kmeans.fit(df[['acousticness','valence']])\n",
    "    scores.append(kmeans.inertia_)"
   ]
  },
  {
   "cell_type": "code",
   "execution_count": 10,
   "metadata": {},
   "outputs": [
    {
     "data": {
      "image/png": "[encoded data removed]",
      "text/plain": [
       "<Figure size 1000x500 with 1 Axes>"
      ]
     },
     "metadata": {},
     "output_type": "display_data"
    }
   ],
   "source": [
    "plt.figure(figsize=(10,5))\n",
    "plt.plot(range(1,11),scores,marker='o')\n",
    "plt.grid()\n",
    "plt.show()"
   ]
  },
  {
   "cell_type": "code",
   "execution_count": 11,
   "metadata": {},
   "outputs": [],
   "source": [
    "#silhouette for two feature\n",
    "silhouette_scores=[]\n",
    "\n",
    "for i in range(2,11):\n",
    "    kmeans=KMeans(n_clusters=i,random_state=42)\n",
    "    kmeans.fit(df[['acousticness','valence']])\n",
    "    score=silhouette_score(df[['acousticness','valence']],kmeans.labels_)\n",
    "    silhouette_scores.append(score)"
   ]
  },
  {
   "cell_type": "code",
   "execution_count": 12,
   "metadata": {},
   "outputs": [
    {
     "data": {
      "text/plain": [
       "[0.4124346088352222,\n",
       " 0.40707542540667185,\n",
       " 0.4268407003454385,\n",
       " 0.4035395062957109,\n",
       " 0.40607787592581157,\n",
       " 0.3779777530074053,\n",
       " 0.4092966878039883,\n",
       " 0.388240596301519,\n",
       " 0.39040906495970296]"
      ]
     },
     "execution_count": 12,
     "metadata": {},
     "output_type": "execute_result"
    }
   ],
   "source": [
    "silhouette_scores"
   ]
  },
  {
   "cell_type": "code",
   "execution_count": 13,
   "metadata": {},
   "outputs": [
    {
     "data": {
      "image/png": "[encoded data removed]",
      "text/plain": [
       "<Figure size 1500x1000 with 1 Axes>"
      ]
     },
     "metadata": {},
     "output_type": "display_data"
    }
   ],
   "source": [
    "plt.figure(figsize=(15,10))\n",
    "plt.plot(range(2,11),silhouette_scores,marker='o')\n",
    "plt.grid()\n",
    "plt.show()"
   ]
  },
  {
   "cell_type": "code",
   "execution_count": 14,
   "metadata": {},
   "outputs": [],
   "source": [
    "# Fit & predict model\n",
    "kmeans_model=KMeans(n_clusters=4,random_state=42)\n",
    "df['Cluster']=kmeans_model.fit_predict(df[['acousticness','valence']])\n"
   ]
  },
  {
   "cell_type": "code",
   "execution_count": 15,
   "metadata": {},
   "outputs": [
    {
     "data": {
      "text/html": [
       "<div>\n",
       "<style scoped>\n",
       "    .dataframe tbody tr th:only-of-type {\n",
       "        vertical-align: middle;\n",
       "    }\n",
       "\n",
       "    .dataframe tbody tr th {\n",
       "        vertical-align: top;\n",
       "    }\n",
       "\n",
       "    .dataframe thead th {\n",
       "        text-align: right;\n",
       "    }\n",
       "</style>\n",
       "<table border=\"1\" class=\"dataframe\">\n",
       "  <thead>\n",
       "    <tr style=\"text-align: right;\">\n",
       "      <th></th>\n",
       "      <th>id</th>\n",
       "      <th>year</th>\n",
       "      <th>album</th>\n",
       "      <th>song</th>\n",
       "      <th>danceability</th>\n",
       "      <th>energy</th>\n",
       "      <th>speechiness</th>\n",
       "      <th>acousticness</th>\n",
       "      <th>liveness</th>\n",
       "      <th>valence</th>\n",
       "      <th>duration_ms</th>\n",
       "      <th>Cluster</th>\n",
       "    </tr>\n",
       "  </thead>\n",
       "  <tbody>\n",
       "    <tr>\n",
       "      <th>0</th>\n",
       "      <td>1</td>\n",
       "      <td>1963</td>\n",
       "      <td>Please Please Me</td>\n",
       "      <td>I Saw Her Standing There</td>\n",
       "      <td>0.491</td>\n",
       "      <td>0.801</td>\n",
       "      <td>0.0361</td>\n",
       "      <td>0.2700</td>\n",
       "      <td>0.0665</td>\n",
       "      <td>0.971</td>\n",
       "      <td>173947</td>\n",
       "      <td>2</td>\n",
       "    </tr>\n",
       "    <tr>\n",
       "      <th>1</th>\n",
       "      <td>2</td>\n",
       "      <td>1963</td>\n",
       "      <td>Please Please Me</td>\n",
       "      <td>Misery</td>\n",
       "      <td>0.591</td>\n",
       "      <td>0.605</td>\n",
       "      <td>0.0413</td>\n",
       "      <td>0.7070</td>\n",
       "      <td>0.3090</td>\n",
       "      <td>0.882</td>\n",
       "      <td>108547</td>\n",
       "      <td>1</td>\n",
       "    </tr>\n",
       "    <tr>\n",
       "      <th>2</th>\n",
       "      <td>3</td>\n",
       "      <td>1963</td>\n",
       "      <td>Please Please Me</td>\n",
       "      <td>Anna</td>\n",
       "      <td>0.608</td>\n",
       "      <td>0.565</td>\n",
       "      <td>0.0336</td>\n",
       "      <td>0.6350</td>\n",
       "      <td>0.0601</td>\n",
       "      <td>0.835</td>\n",
       "      <td>177133</td>\n",
       "      <td>1</td>\n",
       "    </tr>\n",
       "    <tr>\n",
       "      <th>3</th>\n",
       "      <td>4</td>\n",
       "      <td>1963</td>\n",
       "      <td>Please Please Me</td>\n",
       "      <td>Chains</td>\n",
       "      <td>0.654</td>\n",
       "      <td>0.561</td>\n",
       "      <td>0.0304</td>\n",
       "      <td>0.6080</td>\n",
       "      <td>0.1290</td>\n",
       "      <td>0.929</td>\n",
       "      <td>145080</td>\n",
       "      <td>1</td>\n",
       "    </tr>\n",
       "    <tr>\n",
       "      <th>4</th>\n",
       "      <td>5</td>\n",
       "      <td>1963</td>\n",
       "      <td>Please Please Me</td>\n",
       "      <td>Boys</td>\n",
       "      <td>0.402</td>\n",
       "      <td>0.860</td>\n",
       "      <td>0.0504</td>\n",
       "      <td>0.6070</td>\n",
       "      <td>0.7360</td>\n",
       "      <td>0.822</td>\n",
       "      <td>146440</td>\n",
       "      <td>1</td>\n",
       "    </tr>\n",
       "    <tr>\n",
       "      <th>...</th>\n",
       "      <td>...</td>\n",
       "      <td>...</td>\n",
       "      <td>...</td>\n",
       "      <td>...</td>\n",
       "      <td>...</td>\n",
       "      <td>...</td>\n",
       "      <td>...</td>\n",
       "      <td>...</td>\n",
       "      <td>...</td>\n",
       "      <td>...</td>\n",
       "      <td>...</td>\n",
       "      <td>...</td>\n",
       "    </tr>\n",
       "    <tr>\n",
       "      <th>188</th>\n",
       "      <td>189</td>\n",
       "      <td>1970</td>\n",
       "      <td>Let It Be</td>\n",
       "      <td>ive got a feeling</td>\n",
       "      <td>0.440</td>\n",
       "      <td>0.609</td>\n",
       "      <td>0.0358</td>\n",
       "      <td>0.0715</td>\n",
       "      <td>0.5820</td>\n",
       "      <td>0.364</td>\n",
       "      <td>217560</td>\n",
       "      <td>0</td>\n",
       "    </tr>\n",
       "    <tr>\n",
       "      <th>189</th>\n",
       "      <td>190</td>\n",
       "      <td>1970</td>\n",
       "      <td>Let It Be</td>\n",
       "      <td>one after 909</td>\n",
       "      <td>0.554</td>\n",
       "      <td>0.828</td>\n",
       "      <td>0.0739</td>\n",
       "      <td>0.0307</td>\n",
       "      <td>0.9070</td>\n",
       "      <td>0.888</td>\n",
       "      <td>173960</td>\n",
       "      <td>2</td>\n",
       "    </tr>\n",
       "    <tr>\n",
       "      <th>190</th>\n",
       "      <td>191</td>\n",
       "      <td>1970</td>\n",
       "      <td>Let It Be</td>\n",
       "      <td>the long and winding road</td>\n",
       "      <td>0.299</td>\n",
       "      <td>0.329</td>\n",
       "      <td>0.0279</td>\n",
       "      <td>0.7560</td>\n",
       "      <td>0.0559</td>\n",
       "      <td>0.392</td>\n",
       "      <td>218187</td>\n",
       "      <td>3</td>\n",
       "    </tr>\n",
       "    <tr>\n",
       "      <th>191</th>\n",
       "      <td>192</td>\n",
       "      <td>1970</td>\n",
       "      <td>Let It Be</td>\n",
       "      <td>for you blue</td>\n",
       "      <td>0.880</td>\n",
       "      <td>0.556</td>\n",
       "      <td>0.0855</td>\n",
       "      <td>0.2400</td>\n",
       "      <td>0.2400</td>\n",
       "      <td>0.955</td>\n",
       "      <td>152213</td>\n",
       "      <td>2</td>\n",
       "    </tr>\n",
       "    <tr>\n",
       "      <th>192</th>\n",
       "      <td>193</td>\n",
       "      <td>1970</td>\n",
       "      <td>Let It Be</td>\n",
       "      <td>get back</td>\n",
       "      <td>0.761</td>\n",
       "      <td>0.592</td>\n",
       "      <td>0.0586</td>\n",
       "      <td>0.4920</td>\n",
       "      <td>0.6100</td>\n",
       "      <td>0.332</td>\n",
       "      <td>189387</td>\n",
       "      <td>3</td>\n",
       "    </tr>\n",
       "  </tbody>\n",
       "</table>\n",
       "<p>193 rows × 12 columns</p>\n",
       "</div>"
      ],
      "text/plain": [
       "      id  year             album                       song  danceability  \\\n",
       "0      1  1963  Please Please Me   I Saw Her Standing There         0.491   \n",
       "1      2  1963  Please Please Me                     Misery         0.591   \n",
       "2      3  1963  Please Please Me                       Anna         0.608   \n",
       "3      4  1963  Please Please Me                     Chains         0.654   \n",
       "4      5  1963  Please Please Me                       Boys         0.402   \n",
       "..   ...   ...               ...                        ...           ...   \n",
       "188  189  1970         Let It Be          ive got a feeling         0.440   \n",
       "189  190  1970         Let It Be              one after 909         0.554   \n",
       "190  191  1970         Let It Be  the long and winding road         0.299   \n",
       "191  192  1970         Let It Be               for you blue         0.880   \n",
       "192  193  1970         Let It Be                   get back         0.761   \n",
       "\n",
       "     energy  speechiness  acousticness  liveness  valence  duration_ms  \\\n",
       "0     0.801       0.0361        0.2700    0.0665    0.971       173947   \n",
       "1     0.605       0.0413        0.7070    0.3090    0.882       108547   \n",
       "2     0.565       0.0336        0.6350    0.0601    0.835       177133   \n",
       "3     0.561       0.0304        0.6080    0.1290    0.929       145080   \n",
       "4     0.860       0.0504        0.6070    0.7360    0.822       146440   \n",
       "..      ...          ...           ...       ...      ...          ...   \n",
       "188   0.609       0.0358        0.0715    0.5820    0.364       217560   \n",
       "189   0.828       0.0739        0.0307    0.9070    0.888       173960   \n",
       "190   0.329       0.0279        0.7560    0.0559    0.392       218187   \n",
       "191   0.556       0.0855        0.2400    0.2400    0.955       152213   \n",
       "192   0.592       0.0586        0.4920    0.6100    0.332       189387   \n",
       "\n",
       "     Cluster  \n",
       "0          2  \n",
       "1          1  \n",
       "2          1  \n",
       "3          1  \n",
       "4          1  \n",
       "..       ...  \n",
       "188        0  \n",
       "189        2  \n",
       "190        3  \n",
       "191        2  \n",
       "192        3  \n",
       "\n",
       "[193 rows x 12 columns]"
      ]
     },
     "execution_count": 15,
     "metadata": {},
     "output_type": "execute_result"
    }
   ],
   "source": [
    "df"
   ]
  },
  {
   "cell_type": "code",
   "execution_count": 16,
   "metadata": {},
   "outputs": [
    {
     "data": {
      "text/plain": [
       "Cluster\n",
       "2    80\n",
       "1    54\n",
       "0    34\n",
       "3    25\n",
       "Name: count, dtype: int64"
      ]
     },
     "execution_count": 16,
     "metadata": {},
     "output_type": "execute_result"
    }
   ],
   "source": [
    "df['Cluster'].value_counts()"
   ]
  },
  {
   "cell_type": "code",
   "execution_count": 17,
   "metadata": {},
   "outputs": [
    {
     "data": {
      "application/vnd.plotly.v1+json": {
       "config": {
        "plotlyServerURL": "https://plot.ly"
       },
       "data": [
        {
         "customdata": [
          [
           "Please Please Me",
           1963,
           "I Saw Her Standing There"
          ],
          [
           "Please Please Me",
           1963,
           "Misery"
          ],
          [
           "Please Please Me",
           1963,
           "Anna"
          ],
          [
           "Please Please Me",
           1963,
           "Chains"
          ],
          [
           "Please Please Me",
           1963,
           "Boys"
          ],
          [
           "Please Please Me",
           1963,
           "Ask Me Why"
          ],
          [
           "Please Please Me",
           1963,
           "Please Please Me"
          ],
          [
           "Please Please Me",
           1963,
           "Love Me Do"
          ],
          [
           "Please Please Me",
           1963,
           "P.S. I Love You"
          ],
          [
           "Please Please Me",
           1963,
           "Baby It's You"
          ],
          [
           "Please Please Me",
           1963,
           "Do You Want to Know a Secret"
          ],
          [
           "Please Please Me",
           1963,
           "Taste of Honey"
          ],
          [
           "Please Please Me",
           1963,
           "There's a Place"
          ],
          [
           "Please Please Me",
           1963,
           "Twist and Shout"
          ],
          [
           "With The Beatles",
           1963,
           "It Wont Be Long"
          ],
          [
           "With The Beatles",
           1963,
           "All I've Got To Do"
          ],
          [
           "With The Beatles",
           1963,
           "All My Loving"
          ],
          [
           "With The Beatles",
           1963,
           "Don’t Bother Me"
          ],
          [
           "With The Beatles",
           1963,
           "Little Child"
          ],
          [
           "With The Beatles",
           1963,
           "Till There Was You"
          ],
          [
           "With The Beatles",
           1963,
           "Please Mister Postman"
          ],
          [
           "With The Beatles",
           1963,
           "Roll Over Beethoven"
          ],
          [
           "With The Beatles",
           1963,
           "Hold Me Tight"
          ],
          [
           "With The Beatles",
           1963,
           "You Really Got A Hold On Me"
          ],
          [
           "With The Beatles",
           1963,
           "I Wanna Be Your Man"
          ],
          [
           "With The Beatles",
           1963,
           "Devil In Her Heart"
          ],
          [
           "With The Beatles",
           1963,
           "Not A Second Time"
          ],
          [
           "With The Beatles",
           1963,
           "Money(That’s What I Want)"
          ],
          [
           "A Hard Day's Night",
           1964,
           "A Hard Day's Night"
          ],
          [
           "A Hard Day's Night",
           1964,
           "I should Have Known Better"
          ],
          [
           "A Hard Day's Night",
           1964,
           "If I Fell"
          ],
          [
           "A Hard Day's Night",
           1964,
           "Im Happy Just To Dance With You"
          ],
          [
           "A Hard Day's Night",
           1964,
           "And I Love Her"
          ],
          [
           "A Hard Day's Night",
           1964,
           "tell me why "
          ],
          [
           "A Hard Day's Night",
           1964,
           "cant buy me love"
          ],
          [
           "A Hard Day's Night",
           1964,
           "any time at all"
          ],
          [
           "A Hard Day's Night",
           1964,
           "ill cry instead"
          ],
          [
           "A Hard Day's Night",
           1964,
           "things we said today"
          ],
          [
           "A Hard Day's Night",
           1964,
           "when I get home"
          ],
          [
           "A Hard Day's Night",
           1964,
           "you cant do that"
          ],
          [
           "A Hard Day's Night",
           1964,
           "ill be back"
          ],
          [
           "Beatles for Sale",
           1964,
           "no reply"
          ],
          [
           "Beatles for Sale",
           1964,
           "im a loser"
          ],
          [
           "Beatles for Sale",
           1964,
           "babys in black"
          ],
          [
           "Beatles for Sale",
           1964,
           "rock and roll music"
          ],
          [
           "Beatles for Sale",
           1964,
           "ill follow the sun"
          ],
          [
           "Beatles for Sale",
           1964,
           "mr.moonlight"
          ],
          [
           "Beatles for Sale",
           1964,
           "kansas city/ Hey-Hey-Hey-Hey"
          ],
          [
           "Beatles for Sale",
           1964,
           "eight days a week"
          ],
          [
           "Beatles for Sale",
           1964,
           "words of love"
          ],
          [
           "Beatles for Sale",
           1964,
           "honey don’t "
          ],
          [
           "Beatles for Sale",
           1964,
           "every little thing"
          ],
          [
           "Beatles for Sale",
           1964,
           "I don’t want to spoil the party "
          ],
          [
           "Beatles for Sale",
           1964,
           "What youre doing"
          ],
          [
           "Beatles for Sale",
           1964,
           "everybodys trying to be my baby"
          ],
          [
           "Help!",
           1965,
           "Help!"
          ],
          [
           "Help!",
           1965,
           "the night before"
          ],
          [
           "Help!",
           1965,
           "you’ve got to hide your love away"
          ],
          [
           "Help!",
           1965,
           "I need you"
          ],
          [
           "Help!",
           1965,
           "another girl"
          ],
          [
           "Help!",
           1965,
           "youre going to lose that girl"
          ],
          [
           "Help!",
           1965,
           "ticket to ride"
          ],
          [
           "Help!",
           1965,
           "act naturally"
          ],
          [
           "Help!",
           1965,
           "its only love"
          ],
          [
           "Help!",
           1965,
           "you like me too much"
          ],
          [
           "Help!",
           1965,
           "tell me what you see"
          ],
          [
           "Help!",
           1965,
           "ive just seen a face"
          ],
          [
           "Help!",
           1965,
           "yesterday"
          ],
          [
           "Help!",
           1965,
           "dizzy miss lizzy"
          ],
          [
           "Rubber Soul",
           1965,
           "drive my car"
          ],
          [
           "Rubber Soul",
           1965,
           "norwegian wood"
          ],
          [
           "Rubber Soul",
           1965,
           "you wont see me"
          ],
          [
           "Rubber Soul",
           1965,
           "nowhere man"
          ],
          [
           "Rubber Soul",
           1965,
           "think for yourself"
          ],
          [
           "Rubber Soul",
           1965,
           "the word"
          ],
          [
           "Rubber Soul",
           1965,
           "michelle"
          ],
          [
           "Rubber Soul",
           1965,
           "what goes on"
          ],
          [
           "Rubber Soul",
           1965,
           "girl"
          ],
          [
           "Rubber Soul",
           1965,
           "im looking through you "
          ],
          [
           "Rubber Soul",
           1965,
           "in my life"
          ],
          [
           "Rubber Soul",
           1965,
           "wait"
          ],
          [
           "Rubber Soul",
           1965,
           "if I needed someone"
          ],
          [
           "Rubber Soul",
           1965,
           "run for your life"
          ],
          [
           "Revolver",
           1966,
           "taxman"
          ],
          [
           "Revolver",
           1966,
           "eleanor rigby"
          ],
          [
           "Revolver",
           1966,
           "im only sleeping"
          ],
          [
           "Revolver",
           1966,
           "love you to"
          ],
          [
           "Revolver",
           1966,
           "here, there and everywhere"
          ],
          [
           "Revolver",
           1966,
           "yellow submarine"
          ],
          [
           "Revolver",
           1966,
           "she said she said "
          ],
          [
           "Revolver",
           1966,
           "good day sunshine"
          ],
          [
           "Revolver",
           1966,
           "and your bird can sing"
          ],
          [
           "Revolver",
           1966,
           "for no one"
          ],
          [
           "Revolver",
           1966,
           "doctor robert"
          ],
          [
           "Revolver",
           1966,
           "I want to tell you"
          ],
          [
           "Revolver",
           1966,
           "got to get you into my life"
          ],
          [
           "Revolver",
           1966,
           "tomorrow never knows"
          ],
          [
           "Sgt. Pepper's Lonely Hearts Club Band",
           1967,
           "sgt.peppers lonely hearts club band"
          ],
          [
           "Sgt. Pepper's Lonely Hearts Club Band",
           1967,
           "with a little help from my friends"
          ],
          [
           "Sgt. Pepper's Lonely Hearts Club Band",
           1967,
           "lucy in the sky with diamonds"
          ],
          [
           "Sgt. Pepper's Lonely Hearts Club Band",
           1967,
           "getting better"
          ],
          [
           "Sgt. Pepper's Lonely Hearts Club Band",
           1967,
           "fixing a hole"
          ],
          [
           "Sgt. Pepper's Lonely Hearts Club Band",
           1967,
           "shes leaving home"
          ],
          [
           "Sgt. Pepper's Lonely Hearts Club Band",
           1967,
           "being for the benefit of mr.kite!"
          ],
          [
           "Sgt. Pepper's Lonely Hearts Club Band",
           1967,
           "within you without you"
          ],
          [
           "Sgt. Pepper's Lonely Hearts Club Band",
           1967,
           "when im sixty four"
          ],
          [
           "Sgt. Pepper's Lonely Hearts Club Band",
           1967,
           "lovely rita"
          ],
          [
           "Sgt. Pepper's Lonely Hearts Club Band",
           1967,
           "good morning good mornng"
          ],
          [
           "Sgt. Pepper's Lonely Hearts Club Band",
           1967,
           "sgt. Peppers lonely hearts club band"
          ],
          [
           "Sgt. Pepper's Lonely Hearts Club Band",
           1967,
           "a day in the life"
          ],
          [
           "Magical Mystery Tour",
           1967,
           "magical mystery tour"
          ],
          [
           "Magical Mystery Tour",
           1967,
           "the fool on the hill"
          ],
          [
           "Magical Mystery Tour",
           1967,
           "flying "
          ],
          [
           "Magical Mystery Tour",
           1967,
           "blue jay way"
          ],
          [
           "Magical Mystery Tour",
           1967,
           "your mother should know"
          ],
          [
           "Magical Mystery Tour",
           1967,
           "I am the walrus"
          ],
          [
           "Magical Mystery Tour",
           1967,
           "hello, goodbye"
          ],
          [
           "Magical Mystery Tour",
           1967,
           "strawberry field forever"
          ],
          [
           "Magical Mystery Tour",
           1967,
           "penny lane"
          ],
          [
           "Magical Mystery Tour",
           1967,
           "baby, youre a rich man"
          ],
          [
           "Magical Mystery Tour",
           1967,
           "all you need is love"
          ],
          [
           "The Beatles (white album)",
           1968,
           "back in the ussr"
          ],
          [
           "The Beatles (white album)",
           1968,
           "dear prudence "
          ],
          [
           "The Beatles (white album)",
           1968,
           "glass onion"
          ],
          [
           "The Beatles (white album)",
           1968,
           "obi-la -di, ob-la-da"
          ],
          [
           "The Beatles (white album)",
           1968,
           "wild honey pie"
          ],
          [
           "The Beatles (white album)",
           1968,
           "the continue story of bungalow bill"
          ],
          [
           "The Beatles (white album)",
           1968,
           "while my guitar gently weeps"
          ],
          [
           "The Beatles (white album)",
           1968,
           "happiness is a warm gem"
          ],
          [
           "The Beatles (white album)",
           1968,
           "martha my dear"
          ],
          [
           "The Beatles (white album)",
           1968,
           "im so tired"
          ],
          [
           "The Beatles (white album)",
           1968,
           "blackbird"
          ],
          [
           "The Beatles (white album)",
           1968,
           "piggies"
          ],
          [
           "The Beatles (white album)",
           1968,
           "rocky raccoon"
          ],
          [
           "The Beatles (white album)",
           1968,
           "don’t pass me by"
          ],
          [
           "The Beatles (white album)",
           1968,
           "why don’t we do it in the road?"
          ],
          [
           "The Beatles (white album)",
           1968,
           "I will"
          ],
          [
           "The Beatles (white album)",
           1968,
           "julia"
          ],
          [
           "The Beatles (white album)",
           1968,
           "birthday"
          ],
          [
           "The Beatles (white album)",
           1968,
           "yer blue"
          ],
          [
           "The Beatles (white album)",
           1968,
           "mother natures son"
          ],
          [
           "The Beatles (white album)",
           1968,
           "everybodys got something to hide even you"
          ],
          [
           "The Beatles (white album)",
           1968,
           "sexy sadie "
          ],
          [
           "The Beatles (white album)",
           1968,
           "helter skelter"
          ],
          [
           "The Beatles (white album)",
           1968,
           "long, long. Long"
          ],
          [
           "The Beatles (white album)",
           1968,
           "revolution 1"
          ],
          [
           "The Beatles (white album)",
           1968,
           "honey pie"
          ],
          [
           "The Beatles (white album)",
           1968,
           "savoy truffle"
          ],
          [
           "The Beatles (white album)",
           1968,
           "cry baby cry"
          ],
          [
           "The Beatles (white album)",
           1968,
           "revolution 9"
          ],
          [
           "The Beatles (white album)",
           1968,
           "good night"
          ],
          [
           "Yellow Submarine",
           1969,
           "yellow submarine"
          ],
          [
           "Yellow Submarine",
           1969,
           "only a northern song"
          ],
          [
           "Yellow Submarine",
           1969,
           "all together now"
          ],
          [
           "Yellow Submarine",
           1969,
           "hey bulldog"
          ],
          [
           "Yellow Submarine",
           1969,
           "its all too much "
          ],
          [
           "Yellow Submarine",
           1969,
           "all you need is love"
          ],
          [
           "Yellow Submarine",
           1969,
           "pepperland"
          ],
          [
           "Yellow Submarine",
           1969,
           "sea of time "
          ],
          [
           "Yellow Submarine",
           1969,
           "sea of holes"
          ],
          [
           "Yellow Submarine",
           1969,
           "sea of monsters"
          ],
          [
           "Yellow Submarine",
           1969,
           "march of the meanies"
          ],
          [
           "Yellow Submarine",
           1969,
           "pepperland laid waste"
          ],
          [
           "Yellow Submarine",
           1969,
           "yellow submarine in pepperland"
          ],
          [
           "Abbey Road",
           1969,
           "come together"
          ],
          [
           "Abbey Road",
           1969,
           "something"
          ],
          [
           "Abbey Road",
           1969,
           "maxwells silver hammer"
          ],
          [
           "Abbey Road",
           1969,
           "oh! Darling"
          ],
          [
           "Abbey Road",
           1969,
           "octopus's garden"
          ],
          [
           "Abbey Road",
           1969,
           "I want you(she's so heavy)"
          ],
          [
           "Abbey Road",
           1969,
           "Heres comes the sun"
          ],
          [
           "Abbey Road",
           1969,
           "because"
          ],
          [
           "Abbey Road",
           1969,
           "you never give me your money"
          ],
          [
           "Abbey Road",
           1969,
           "sun king"
          ],
          [
           "Abbey Road",
           1969,
           "mean mr mustard"
          ],
          [
           "Abbey Road",
           1969,
           "polythene pam"
          ],
          [
           "Abbey Road",
           1969,
           "she came in through the bathroom"
          ],
          [
           "Abbey Road",
           1969,
           "golden slumbers"
          ],
          [
           "Abbey Road",
           1969,
           "carry that weight "
          ],
          [
           "Abbey Road",
           1969,
           "the end "
          ],
          [
           "Abbey Road",
           1969,
           "her majesty"
          ],
          [
           "Let It Be",
           1970,
           "two of us"
          ],
          [
           "Let It Be",
           1970,
           "dig a pony"
          ],
          [
           "Let It Be",
           1970,
           "across the universe"
          ],
          [
           "Let It Be",
           1970,
           "I me mine"
          ],
          [
           "Let It Be",
           1970,
           "dig it "
          ],
          [
           "Let It Be",
           1970,
           "let it be "
          ],
          [
           "Let It Be",
           1970,
           "maggie mae"
          ],
          [
           "Let It Be",
           1970,
           "ive got a feeling"
          ],
          [
           "Let It Be",
           1970,
           "one after 909"
          ],
          [
           "Let It Be",
           1970,
           "the long and winding road"
          ],
          [
           "Let It Be",
           1970,
           "for you blue"
          ],
          [
           "Let It Be",
           1970,
           "get back"
          ]
         ],
         "hovertemplate": "acousticness=%{x}<br>valence=%{y}<br>album=%{customdata[0]}<br>year=%{customdata[1]}<br>song=%{customdata[2]}<br>Cluster=%{marker.color}<extra></extra>",
         "legendgroup": "",
         "marker": {
          "color": [
           2,
           1,
           1,
           1,
           1,
           1,
           2,
           2,
           2,
           1,
           1,
           3,
           1,
           1,
           2,
           2,
           2,
           1,
           2,
           1,
           1,
           2,
           1,
           1,
           1,
           2,
           2,
           1,
           2,
           2,
           1,
           2,
           1,
           1,
           2,
           2,
           2,
           0,
           2,
           2,
           1,
           1,
           1,
           1,
           1,
           1,
           1,
           1,
           1,
           2,
           1,
           1,
           1,
           2,
           1,
           2,
           2,
           0,
           2,
           2,
           2,
           2,
           2,
           2,
           1,
           2,
           1,
           3,
           2,
           2,
           2,
           0,
           2,
           2,
           2,
           1,
           2,
           1,
           2,
           0,
           2,
           2,
           2,
           2,
           1,
           2,
           1,
           3,
           1,
           2,
           1,
           2,
           1,
           2,
           0,
           1,
           0,
           2,
           2,
           2,
           2,
           2,
           3,
           2,
           0,
           1,
           2,
           2,
           2,
           0,
           0,
           3,
           0,
           0,
           1,
           2,
           2,
           0,
           0,
           0,
           2,
           0,
           0,
           2,
           2,
           0,
           2,
           2,
           3,
           1,
           1,
           3,
           1,
           2,
           1,
           1,
           1,
           3,
           2,
           0,
           3,
           2,
           2,
           0,
           3,
           2,
           3,
           2,
           0,
           3,
           3,
           1,
           2,
           2,
           2,
           0,
           2,
           3,
           3,
           3,
           3,
           3,
           3,
           3,
           0,
           0,
           1,
           0,
           2,
           0,
           0,
           3,
           0,
           0,
           2,
           0,
           2,
           0,
           2,
           0,
           3,
           2,
           1,
           2,
           0,
           1,
           3,
           0,
           0,
           2,
           3,
           2,
           3
          ],
          "coloraxis": "coloraxis",
          "symbol": "circle"
         },
         "mode": "markers",
         "name": "",
         "orientation": "v",
         "showlegend": false,
         "type": "scatter",
         "x": [
          0.27,
          0.707,
          0.635,
          0.608,
          0.607,
          0.767,
          0.334,
          0.386,
          0.389,
          0.778,
          0.608,
          0.698,
          0.629,
          0.641,
          0.284,
          0.217,
          0.207,
          0.554,
          0.292,
          0.79,
          0.675,
          0.289,
          0.664,
          0.525,
          0.477,
          0.227,
          0.213,
          0.425,
          0.137,
          0.257,
          0.68,
          0.138,
          0.64,
          0.586,
          0.283,
          0.366,
          0.0917,
          0.239,
          0.384,
          0.367,
          0.744,
          0.67,
          0.567,
          0.434,
          0.566,
          0.789,
          0.796,
          0.614,
          0.412,
          0.323,
          0.473,
          0.488,
          0.451,
          0.301,
          0.466,
          0.188,
          0.0537,
          0.207,
          0.277,
          0.238,
          0.346,
          0.0457,
          0.366,
          0.22,
          0.415,
          0.061,
          0.723,
          0.879,
          0.116,
          0.0173,
          0.183,
          0.136,
          0.00797,
          0.0124,
          0.00682,
          0.652,
          0.0168,
          0.587,
          0.00772,
          0.449,
          0.0175,
          0.00748,
          0.0103,
          0.0101,
          0.936,
          0.21,
          0.7,
          0.921,
          0.531,
          0.103,
          0.719,
          0.0067,
          0.783,
          0.164,
          0.182,
          0.42,
          0.000084,
          0.0857,
          0.365,
          0.0469,
          0.313,
          0.382,
          0.944,
          0.338,
          0.339,
          0.625,
          0.0634,
          0.0858,
          0.0061,
          0.29,
          0.0385,
          0.913,
          0.368,
          0.0258,
          0.784,
          0.0828,
          0.306,
          0.336,
          0.212,
          0.0119,
          0.346,
          0.069,
          0.16,
          0.0123,
          0.232,
          0.425,
          0.224,
          0.0205,
          0.523,
          0.872,
          0.656,
          0.754,
          0.643,
          0.333,
          0.594,
          0.53,
          0.742,
          0.828,
          0.0000737,
          0.000875,
          0.634,
          0.0207,
          0.33,
          0.000606,
          0.539,
          0.0785,
          0.88,
          0.00814,
          0.115,
          0.769,
          0.865,
          0.518,
          0.000341,
          0.0722,
          0.0197,
          0.000043,
          0.345,
          0.661,
          0.971,
          0.959,
          0.945,
          0.934,
          0.877,
          0.808,
          0.0302,
          0.198,
          0.629,
          0.0126,
          0.155,
          0.0233,
          0.0339,
          0.754,
          0.345,
          0.284,
          0.0699,
          0.00472,
          0.00376,
          0.326,
          0.226,
          0.00101,
          0.728,
          0.0974,
          0.472,
          0.361,
          0.179,
          0.659,
          0.631,
          0.379,
          0.0715,
          0.0307,
          0.756,
          0.24,
          0.492
         ],
         "xaxis": "x",
         "y": [
          0.971,
          0.882,
          0.835,
          0.929,
          0.822,
          0.597,
          0.706,
          0.744,
          0.77,
          0.879,
          0.609,
          0.412,
          0.927,
          0.937,
          0.862,
          0.879,
          0.9,
          0.916,
          0.886,
          0.646,
          0.961,
          0.967,
          0.963,
          0.687,
          0.683,
          0.966,
          0.961,
          0.923,
          0.797,
          0.91,
          0.568,
          0.887,
          0.636,
          0.797,
          0.842,
          0.744,
          0.96,
          0.516,
          0.64,
          0.961,
          0.641,
          0.869,
          0.856,
          0.876,
          0.965,
          0.625,
          0.589,
          0.924,
          0.744,
          0.85,
          0.735,
          0.678,
          0.889,
          0.825,
          0.943,
          0.763,
          0.632,
          0.378,
          0.638,
          0.822,
          0.818,
          0.749,
          0.944,
          0.685,
          0.899,
          0.7,
          0.913,
          0.315,
          0.918,
          0.82,
          0.65,
          0.473,
          0.687,
          0.799,
          0.792,
          0.666,
          0.765,
          0.893,
          0.774,
          0.435,
          0.657,
          0.796,
          0.822,
          0.783,
          0.813,
          0.698,
          0.707,
          0.36,
          0.696,
          0.672,
          0.571,
          0.966,
          0.713,
          0.574,
          0.449,
          0.711,
          0.0534,
          0.583,
          0.803,
          0.668,
          0.764,
          0.619,
          0.393,
          0.71,
          0.354,
          0.661,
          0.63,
          0.93,
          0.879,
          0.175,
          0.338,
          0.49,
          0.261,
          0.0378,
          0.724,
          0.654,
          0.806,
          0.289,
          0.49,
          0.467,
          0.653,
          0.494,
          0.332,
          0.789,
          0.975,
          0.152,
          0.648,
          0.702,
          0.44,
          0.824,
          0.717,
          0.372,
          0.52,
          0.648,
          0.946,
          0.957,
          0.832,
          0.193,
          0.91,
          0.435,
          0.401,
          0.81,
          0.671,
          0.281,
          0.163,
          0.695,
          0.553,
          0.793,
          0.362,
          0.101,
          0.178,
          0.688,
          0.801,
          0.778,
          0.947,
          0.199,
          0.627,
          0.367,
          0.0629,
          0.0357,
          0.0489,
          0.16,
          0.0462,
          0.271,
          0.187,
          0.377,
          0.726,
          0.549,
          0.73,
          0.42,
          0.394,
          0.162,
          0.223,
          0.192,
          0.97,
          0.499,
          0.69,
          0.239,
          0.704,
          0.222,
          0.522,
          0.931,
          0.527,
          0.858,
          0.525,
          0.67,
          0.41,
          0.524,
          0.364,
          0.888,
          0.392,
          0.955,
          0.332
         ],
         "yaxis": "y"
        }
       ],
       "layout": {
        "coloraxis": {
         "colorbar": {
          "title": {
           "text": "Cluster"
          }
         },
         "colorscale": [
          [
           0,
           "#0d0887"
          ],
          [
           0.1111111111111111,
           "#46039f"
          ],
          [
           0.2222222222222222,
           "#7201a8"
          ],
          [
           0.3333333333333333,
           "#9c179e"
          ],
          [
           0.4444444444444444,
           "#bd3786"
          ],
          [
           0.5555555555555556,
           "#d8576b"
          ],
          [
           0.6666666666666666,
           "#ed7953"
          ],
          [
           0.7777777777777778,
           "#fb9f3a"
          ],
          [
           0.8888888888888888,
           "#fdca26"
          ],
          [
           1,
           "#f0f921"
          ]
         ]
        },
        "legend": {
         "tracegroupgap": 0
        },
        "margin": {
         "t": 60
        },
        "template": {
         "data": {
          "bar": [
           {
            "error_x": {
             "color": "#2a3f5f"
            },
            "error_y": {
             "color": "#2a3f5f"
            },
            "marker": {
             "line": {
              "color": "#E5ECF6",
              "width": 0.5
             },
             "pattern": {
              "fillmode": "overlay",
              "size": 10,
              "solidity": 0.2
             }
            },
            "type": "bar"
           }
          ],
          "barpolar": [
           {
            "marker": {
             "line": {
              "color": "#E5ECF6",
              "width": 0.5
             },
             "pattern": {
              "fillmode": "overlay",
              "size": 10,
              "solidity": 0.2
             }
            },
            "type": "barpolar"
           }
          ],
          "carpet": [
           {
            "aaxis": {
             "endlinecolor": "#2a3f5f",
             "gridcolor": "white",
             "linecolor": "white",
             "minorgridcolor": "white",
             "startlinecolor": "#2a3f5f"
            },
            "baxis": {
             "endlinecolor": "#2a3f5f",
             "gridcolor": "white",
             "linecolor": "white",
             "minorgridcolor": "white",
             "startlinecolor": "#2a3f5f"
            },
            "type": "carpet"
           }
          ],
          "choropleth": [
           {
            "colorbar": {
             "outlinewidth": 0,
             "ticks": ""
            },
            "type": "choropleth"
           }
          ],
          "contour": [
           {
            "colorbar": {
             "outlinewidth": 0,
             "ticks": ""
            },
            "colorscale": [
             [
              0,
              "#0d0887"
             ],
             [
              0.1111111111111111,
              "#46039f"
             ],
             [
              0.2222222222222222,
              "#7201a8"
             ],
             [
              0.3333333333333333,
              "#9c179e"
             ],
             [
              0.4444444444444444,
              "#bd3786"
             ],
             [
              0.5555555555555556,
              "#d8576b"
             ],
             [
              0.6666666666666666,
              "#ed7953"
             ],
             [
              0.7777777777777778,
              "#fb9f3a"
             ],
             [
              0.8888888888888888,
              "#fdca26"
             ],
             [
              1,
              "#f0f921"
             ]
            ],
            "type": "contour"
           }
          ],
          "contourcarpet": [
           {
            "colorbar": {
             "outlinewidth": 0,
             "ticks": ""
            },
            "type": "contourcarpet"
           }
          ],
          "heatmap": [
           {
            "colorbar": {
             "outlinewidth": 0,
             "ticks": ""
            },
            "colorscale": [
             [
              0,
              "#0d0887"
             ],
             [
              0.1111111111111111,
              "#46039f"
             ],
             [
              0.2222222222222222,
              "#7201a8"
             ],
             [
              0.3333333333333333,
              "#9c179e"
             ],
             [
              0.4444444444444444,
              "#bd3786"
             ],
             [
              0.5555555555555556,
              "#d8576b"
             ],
             [
              0.6666666666666666,
              "#ed7953"
             ],
             [
              0.7777777777777778,
              "#fb9f3a"
             ],
             [
              0.8888888888888888,
              "#fdca26"
             ],
             [
              1,
              "#f0f921"
             ]
            ],
            "type": "heatmap"
           }
          ],
          "heatmapgl": [
           {
            "colorbar": {
             "outlinewidth": 0,
             "ticks": ""
            },
            "colorscale": [
             [
              0,
              "#0d0887"
             ],
             [
              0.1111111111111111,
              "#46039f"
             ],
             [
              0.2222222222222222,
              "#7201a8"
             ],
             [
              0.3333333333333333,
              "#9c179e"
             ],
             [
              0.4444444444444444,
              "#bd3786"
             ],
             [
              0.5555555555555556,
              "#d8576b"
             ],
             [
              0.6666666666666666,
              "#ed7953"
             ],
             [
              0.7777777777777778,
              "#fb9f3a"
             ],
             [
              0.8888888888888888,
              "#fdca26"
             ],
             [
              1,
              "#f0f921"
             ]
            ],
            "type": "heatmapgl"
           }
          ],
          "histogram": [
           {
            "marker": {
             "pattern": {
              "fillmode": "overlay",
              "size": 10,
              "solidity": 0.2
             }
            },
            "type": "histogram"
           }
          ],
          "histogram2d": [
           {
            "colorbar": {
             "outlinewidth": 0,
             "ticks": ""
            },
            "colorscale": [
             [
              0,
              "#0d0887"
             ],
             [
              0.1111111111111111,
              "#46039f"
             ],
             [
              0.2222222222222222,
              "#7201a8"
             ],
             [
              0.3333333333333333,
              "#9c179e"
             ],
             [
              0.4444444444444444,
              "#bd3786"
             ],
             [
              0.5555555555555556,
              "#d8576b"
             ],
             [
              0.6666666666666666,
              "#ed7953"
             ],
             [
              0.7777777777777778,
              "#fb9f3a"
             ],
             [
              0.8888888888888888,
              "#fdca26"
             ],
             [
              1,
              "#f0f921"
             ]
            ],
            "type": "histogram2d"
           }
          ],
          "histogram2dcontour": [
           {
            "colorbar": {
             "outlinewidth": 0,
             "ticks": ""
            },
            "colorscale": [
             [
              0,
              "#0d0887"
             ],
             [
              0.1111111111111111,
              "#46039f"
             ],
             [
              0.2222222222222222,
              "#7201a8"
             ],
             [
              0.3333333333333333,
              "#9c179e"
             ],
             [
              0.4444444444444444,
              "#bd3786"
             ],
             [
              0.5555555555555556,
              "#d8576b"
             ],
             [
              0.6666666666666666,
              "#ed7953"
             ],
             [
              0.7777777777777778,
              "#fb9f3a"
             ],
             [
              0.8888888888888888,
              "#fdca26"
             ],
             [
              1,
              "#f0f921"
             ]
            ],
            "type": "histogram2dcontour"
           }
          ],
          "mesh3d": [
           {
            "colorbar": {
             "outlinewidth": 0,
             "ticks": ""
            },
            "type": "mesh3d"
           }
          ],
          "parcoords": [
           {
            "line": {
             "colorbar": {
              "outlinewidth": 0,
              "ticks": ""
             }
            },
            "type": "parcoords"
           }
          ],
          "pie": [
           {
            "automargin": true,
            "type": "pie"
           }
          ],
          "scatter": [
           {
            "fillpattern": {
             "fillmode": "overlay",
             "size": 10,
             "solidity": 0.2
            },
            "type": "scatter"
           }
          ],
          "scatter3d": [
           {
            "line": {
             "colorbar": {
              "outlinewidth": 0,
              "ticks": ""
             }
            },
            "marker": {
             "colorbar": {
              "outlinewidth": 0,
              "ticks": ""
             }
            },
            "type": "scatter3d"
           }
          ],
          "scattercarpet": [
           {
            "marker": {
             "colorbar": {
              "outlinewidth": 0,
              "ticks": ""
             }
            },
            "type": "scattercarpet"
           }
          ],
          "scattergeo": [
           {
            "marker": {
             "colorbar": {
              "outlinewidth": 0,
              "ticks": ""
             }
            },
            "type": "scattergeo"
           }
          ],
          "scattergl": [
           {
            "marker": {
             "colorbar": {
              "outlinewidth": 0,
              "ticks": ""
             }
            },
            "type": "scattergl"
           }
          ],
          "scattermapbox": [
           {
            "marker": {
             "colorbar": {
              "outlinewidth": 0,
              "ticks": ""
             }
            },
            "type": "scattermapbox"
           }
          ],
          "scatterpolar": [
           {
            "marker": {
             "colorbar": {
              "outlinewidth": 0,
              "ticks": ""
             }
            },
            "type": "scatterpolar"
           }
          ],
          "scatterpolargl": [
           {
            "marker": {
             "colorbar": {
              "outlinewidth": 0,
              "ticks": ""
             }
            },
            "type": "scatterpolargl"
           }
          ],
          "scatterternary": [
           {
            "marker": {
             "colorbar": {
              "outlinewidth": 0,
              "ticks": ""
             }
            },
            "type": "scatterternary"
           }
          ],
          "surface": [
           {
            "colorbar": {
             "outlinewidth": 0,
             "ticks": ""
            },
            "colorscale": [
             [
              0,
              "#0d0887"
             ],
             [
              0.1111111111111111,
              "#46039f"
             ],
             [
              0.2222222222222222,
              "#7201a8"
             ],
             [
              0.3333333333333333,
              "#9c179e"
             ],
             [
              0.4444444444444444,
              "#bd3786"
             ],
             [
              0.5555555555555556,
              "#d8576b"
             ],
             [
              0.6666666666666666,
              "#ed7953"
             ],
             [
              0.7777777777777778,
              "#fb9f3a"
             ],
             [
              0.8888888888888888,
              "#fdca26"
             ],
             [
              1,
              "#f0f921"
             ]
            ],
            "type": "surface"
           }
          ],
          "table": [
           {
            "cells": {
             "fill": {
              "color": "#EBF0F8"
             },
             "line": {
              "color": "white"
             }
            },
            "header": {
             "fill": {
              "color": "#C8D4E3"
             },
             "line": {
              "color": "white"
             }
            },
            "type": "table"
           }
          ]
         },
         "layout": {
          "annotationdefaults": {
           "arrowcolor": "#2a3f5f",
           "arrowhead": 0,
           "arrowwidth": 1
          },
          "autotypenumbers": "strict",
          "coloraxis": {
           "colorbar": {
            "outlinewidth": 0,
            "ticks": ""
           }
          },
          "colorscale": {
           "diverging": [
            [
             0,
             "#8e0152"
            ],
            [
             0.1,
             "#c51b7d"
            ],
            [
             0.2,
             "#de77ae"
            ],
            [
             0.3,
             "#f1b6da"
            ],
            [
             0.4,
             "#fde0ef"
            ],
            [
             0.5,
             "#f7f7f7"
            ],
            [
             0.6,
             "#e6f5d0"
            ],
            [
             0.7,
             "#b8e186"
            ],
            [
             0.8,
             "#7fbc41"
            ],
            [
             0.9,
             "#4d9221"
            ],
            [
             1,
             "#276419"
            ]
           ],
           "sequential": [
            [
             0,
             "#0d0887"
            ],
            [
             0.1111111111111111,
             "#46039f"
            ],
            [
             0.2222222222222222,
             "#7201a8"
            ],
            [
             0.3333333333333333,
             "#9c179e"
            ],
            [
             0.4444444444444444,
             "#bd3786"
            ],
            [
             0.5555555555555556,
             "#d8576b"
            ],
            [
             0.6666666666666666,
             "#ed7953"
            ],
            [
             0.7777777777777778,
             "#fb9f3a"
            ],
            [
             0.8888888888888888,
             "#fdca26"
            ],
            [
             1,
             "#f0f921"
            ]
           ],
           "sequentialminus": [
            [
             0,
             "#0d0887"
            ],
            [
             0.1111111111111111,
             "#46039f"
            ],
            [
             0.2222222222222222,
             "#7201a8"
            ],
            [
             0.3333333333333333,
             "#9c179e"
            ],
            [
             0.4444444444444444,
             "#bd3786"
            ],
            [
             0.5555555555555556,
             "#d8576b"
            ],
            [
             0.6666666666666666,
             "#ed7953"
            ],
            [
             0.7777777777777778,
             "#fb9f3a"
            ],
            [
             0.8888888888888888,
             "#fdca26"
            ],
            [
             1,
             "#f0f921"
            ]
           ]
          },
          "colorway": [
           "#636efa",
           "#EF553B",
           "#00cc96",
           "#ab63fa",
           "#FFA15A",
           "#19d3f3",
           "#FF6692",
           "#B6E880",
           "#FF97FF",
           "#FECB52"
          ],
          "font": {
           "color": "#2a3f5f"
          },
          "geo": {
           "bgcolor": "white",
           "lakecolor": "white",
           "landcolor": "#E5ECF6",
           "showlakes": true,
           "showland": true,
           "subunitcolor": "white"
          },
          "hoverlabel": {
           "align": "left"
          },
          "hovermode": "closest",
          "mapbox": {
           "style": "light"
          },
          "paper_bgcolor": "white",
          "plot_bgcolor": "#E5ECF6",
          "polar": {
           "angularaxis": {
            "gridcolor": "white",
            "linecolor": "white",
            "ticks": ""
           },
           "bgcolor": "#E5ECF6",
           "radialaxis": {
            "gridcolor": "white",
            "linecolor": "white",
            "ticks": ""
           }
          },
          "scene": {
           "xaxis": {
            "backgroundcolor": "#E5ECF6",
            "gridcolor": "white",
            "gridwidth": 2,
            "linecolor": "white",
            "showbackground": true,
            "ticks": "",
            "zerolinecolor": "white"
           },
           "yaxis": {
            "backgroundcolor": "#E5ECF6",
            "gridcolor": "white",
            "gridwidth": 2,
            "linecolor": "white",
            "showbackground": true,
            "ticks": "",
            "zerolinecolor": "white"
           },
           "zaxis": {
            "backgroundcolor": "#E5ECF6",
            "gridcolor": "white",
            "gridwidth": 2,
            "linecolor": "white",
            "showbackground": true,
            "ticks": "",
            "zerolinecolor": "white"
           }
          },
          "shapedefaults": {
           "line": {
            "color": "#2a3f5f"
           }
          },
          "ternary": {
           "aaxis": {
            "gridcolor": "white",
            "linecolor": "white",
            "ticks": ""
           },
           "baxis": {
            "gridcolor": "white",
            "linecolor": "white",
            "ticks": ""
           },
           "bgcolor": "#E5ECF6",
           "caxis": {
            "gridcolor": "white",
            "linecolor": "white",
            "ticks": ""
           }
          },
          "title": {
           "x": 0.05
          },
          "xaxis": {
           "automargin": true,
           "gridcolor": "white",
           "linecolor": "white",
           "ticks": "",
           "title": {
            "standoff": 15
           },
           "zerolinecolor": "white",
           "zerolinewidth": 2
          },
          "yaxis": {
           "automargin": true,
           "gridcolor": "white",
           "linecolor": "white",
           "ticks": "",
           "title": {
            "standoff": 15
           },
           "zerolinecolor": "white",
           "zerolinewidth": 2
          }
         }
        },
        "xaxis": {
         "anchor": "y",
         "domain": [
          0,
          1
         ],
         "title": {
          "text": "acousticness"
         }
        },
        "yaxis": {
         "anchor": "x",
         "domain": [
          0,
          1
         ],
         "title": {
          "text": "valence"
         }
        }
       }
      }
     },
     "metadata": {},
     "output_type": "display_data"
    }
   ],
   "source": [
    "px.scatter(df,x='acousticness',y='valence',color='Cluster',hover_data=['album','year','song'])"
   ]
  },
  {
   "cell_type": "code",
   "execution_count": 18,
   "metadata": {},
   "outputs": [],
   "source": [
    "# Elbow method for three features\n",
    "scores=[]\n",
    "for i in range(1,11):\n",
    "    kmeans=KMeans(n_clusters=i,random_state=42)\n",
    "    kmeans.fit(df[['acousticness','valence','liveness']])\n",
    "    scores.append(kmeans.inertia_)"
   ]
  },
  {
   "cell_type": "code",
   "execution_count": 19,
   "metadata": {},
   "outputs": [
    {
     "data": {
      "image/png": "[encoded data removed]",
      "text/plain": [
       "<Figure size 800x500 with 1 Axes>"
      ]
     },
     "metadata": {},
     "output_type": "display_data"
    }
   ],
   "source": [
    "plt.figure(figsize=(8,5))\n",
    "plt.plot(range(1,11),scores,marker='o')\n",
    "plt.grid()\n",
    "plt.show()"
   ]
  },
  {
   "cell_type": "code",
   "execution_count": 20,
   "metadata": {},
   "outputs": [],
   "source": [
    "# silhouette method for three features\n",
    "silhouette_scores=[]\n",
    "\n",
    "for i in range(2,11):\n",
    "    kmeans=KMeans(n_clusters=i,random_state=42)\n",
    "    kmeans.fit(df[['acousticness','valence','liveness']])\n",
    "    score=silhouette_score(df[['acousticness','valence','liveness']],kmeans.labels_)\n",
    "    silhouette_scores.append(score)"
   ]
  },
  {
   "cell_type": "code",
   "execution_count": 21,
   "metadata": {},
   "outputs": [
    {
     "data": {
      "text/plain": [
       "[0.3353017443035294,\n",
       " 0.27459200689686186,\n",
       " 0.32200774740245486,\n",
       " 0.304891216196354,\n",
       " 0.3532306233584599,\n",
       " 0.3343158713431319,\n",
       " 0.2950297220876352,\n",
       " 0.3189123431497349,\n",
       " 0.31094344715012645]"
      ]
     },
     "execution_count": 21,
     "metadata": {},
     "output_type": "execute_result"
    }
   ],
   "source": [
    "silhouette_scores"
   ]
  },
  {
   "cell_type": "code",
   "execution_count": 22,
   "metadata": {},
   "outputs": [
    {
     "data": {
      "image/png": "[encoded data removed]",
      "text/plain": [
       "<Figure size 800x500 with 1 Axes>"
      ]
     },
     "metadata": {},
     "output_type": "display_data"
    }
   ],
   "source": [
    "plt.figure(figsize=(8,5))\n",
    "plt.plot(range(2,11),silhouette_scores,marker='o')\n",
    "plt.grid()\n",
    "plt.show()"
   ]
  },
  {
   "cell_type": "code",
   "execution_count": 40,
   "metadata": {},
   "outputs": [],
   "source": [
    "# Fit & predict model\n",
    "kmeans_model=KMeans(n_clusters=5)\n",
    "df['Cluster2']=kmeans_model.fit_predict(df[['acousticness','valence','liveness']])\n"
   ]
  },
  {
   "cell_type": "code",
   "execution_count": 41,
   "metadata": {},
   "outputs": [
    {
     "data": {
      "text/html": [
       "<div>\n",
       "<style scoped>\n",
       "    .dataframe tbody tr th:only-of-type {\n",
       "        vertical-align: middle;\n",
       "    }\n",
       "\n",
       "    .dataframe tbody tr th {\n",
       "        vertical-align: top;\n",
       "    }\n",
       "\n",
       "    .dataframe thead th {\n",
       "        text-align: right;\n",
       "    }\n",
       "</style>\n",
       "<table border=\"1\" class=\"dataframe\">\n",
       "  <thead>\n",
       "    <tr style=\"text-align: right;\">\n",
       "      <th></th>\n",
       "      <th>id</th>\n",
       "      <th>year</th>\n",
       "      <th>album</th>\n",
       "      <th>song</th>\n",
       "      <th>danceability</th>\n",
       "      <th>energy</th>\n",
       "      <th>speechiness</th>\n",
       "      <th>acousticness</th>\n",
       "      <th>liveness</th>\n",
       "      <th>valence</th>\n",
       "      <th>duration_ms</th>\n",
       "      <th>Cluster</th>\n",
       "      <th>Cluster2</th>\n",
       "    </tr>\n",
       "  </thead>\n",
       "  <tbody>\n",
       "    <tr>\n",
       "      <th>0</th>\n",
       "      <td>1</td>\n",
       "      <td>1963</td>\n",
       "      <td>Please Please Me</td>\n",
       "      <td>I Saw Her Standing There</td>\n",
       "      <td>0.491</td>\n",
       "      <td>0.801</td>\n",
       "      <td>0.0361</td>\n",
       "      <td>0.2700</td>\n",
       "      <td>0.0665</td>\n",
       "      <td>0.971</td>\n",
       "      <td>173947</td>\n",
       "      <td>2</td>\n",
       "      <td>1</td>\n",
       "    </tr>\n",
       "    <tr>\n",
       "      <th>1</th>\n",
       "      <td>2</td>\n",
       "      <td>1963</td>\n",
       "      <td>Please Please Me</td>\n",
       "      <td>Misery</td>\n",
       "      <td>0.591</td>\n",
       "      <td>0.605</td>\n",
       "      <td>0.0413</td>\n",
       "      <td>0.7070</td>\n",
       "      <td>0.3090</td>\n",
       "      <td>0.882</td>\n",
       "      <td>108547</td>\n",
       "      <td>1</td>\n",
       "      <td>3</td>\n",
       "    </tr>\n",
       "    <tr>\n",
       "      <th>2</th>\n",
       "      <td>3</td>\n",
       "      <td>1963</td>\n",
       "      <td>Please Please Me</td>\n",
       "      <td>Anna</td>\n",
       "      <td>0.608</td>\n",
       "      <td>0.565</td>\n",
       "      <td>0.0336</td>\n",
       "      <td>0.6350</td>\n",
       "      <td>0.0601</td>\n",
       "      <td>0.835</td>\n",
       "      <td>177133</td>\n",
       "      <td>1</td>\n",
       "      <td>3</td>\n",
       "    </tr>\n",
       "    <tr>\n",
       "      <th>3</th>\n",
       "      <td>4</td>\n",
       "      <td>1963</td>\n",
       "      <td>Please Please Me</td>\n",
       "      <td>Chains</td>\n",
       "      <td>0.654</td>\n",
       "      <td>0.561</td>\n",
       "      <td>0.0304</td>\n",
       "      <td>0.6080</td>\n",
       "      <td>0.1290</td>\n",
       "      <td>0.929</td>\n",
       "      <td>145080</td>\n",
       "      <td>1</td>\n",
       "      <td>3</td>\n",
       "    </tr>\n",
       "    <tr>\n",
       "      <th>4</th>\n",
       "      <td>5</td>\n",
       "      <td>1963</td>\n",
       "      <td>Please Please Me</td>\n",
       "      <td>Boys</td>\n",
       "      <td>0.402</td>\n",
       "      <td>0.860</td>\n",
       "      <td>0.0504</td>\n",
       "      <td>0.6070</td>\n",
       "      <td>0.7360</td>\n",
       "      <td>0.822</td>\n",
       "      <td>146440</td>\n",
       "      <td>1</td>\n",
       "      <td>0</td>\n",
       "    </tr>\n",
       "    <tr>\n",
       "      <th>...</th>\n",
       "      <td>...</td>\n",
       "      <td>...</td>\n",
       "      <td>...</td>\n",
       "      <td>...</td>\n",
       "      <td>...</td>\n",
       "      <td>...</td>\n",
       "      <td>...</td>\n",
       "      <td>...</td>\n",
       "      <td>...</td>\n",
       "      <td>...</td>\n",
       "      <td>...</td>\n",
       "      <td>...</td>\n",
       "      <td>...</td>\n",
       "    </tr>\n",
       "    <tr>\n",
       "      <th>188</th>\n",
       "      <td>189</td>\n",
       "      <td>1970</td>\n",
       "      <td>Let It Be</td>\n",
       "      <td>ive got a feeling</td>\n",
       "      <td>0.440</td>\n",
       "      <td>0.609</td>\n",
       "      <td>0.0358</td>\n",
       "      <td>0.0715</td>\n",
       "      <td>0.5820</td>\n",
       "      <td>0.364</td>\n",
       "      <td>217560</td>\n",
       "      <td>0</td>\n",
       "      <td>0</td>\n",
       "    </tr>\n",
       "    <tr>\n",
       "      <th>189</th>\n",
       "      <td>190</td>\n",
       "      <td>1970</td>\n",
       "      <td>Let It Be</td>\n",
       "      <td>one after 909</td>\n",
       "      <td>0.554</td>\n",
       "      <td>0.828</td>\n",
       "      <td>0.0739</td>\n",
       "      <td>0.0307</td>\n",
       "      <td>0.9070</td>\n",
       "      <td>0.888</td>\n",
       "      <td>173960</td>\n",
       "      <td>2</td>\n",
       "      <td>0</td>\n",
       "    </tr>\n",
       "    <tr>\n",
       "      <th>190</th>\n",
       "      <td>191</td>\n",
       "      <td>1970</td>\n",
       "      <td>Let It Be</td>\n",
       "      <td>the long and winding road</td>\n",
       "      <td>0.299</td>\n",
       "      <td>0.329</td>\n",
       "      <td>0.0279</td>\n",
       "      <td>0.7560</td>\n",
       "      <td>0.0559</td>\n",
       "      <td>0.392</td>\n",
       "      <td>218187</td>\n",
       "      <td>3</td>\n",
       "      <td>2</td>\n",
       "    </tr>\n",
       "    <tr>\n",
       "      <th>191</th>\n",
       "      <td>192</td>\n",
       "      <td>1970</td>\n",
       "      <td>Let It Be</td>\n",
       "      <td>for you blue</td>\n",
       "      <td>0.880</td>\n",
       "      <td>0.556</td>\n",
       "      <td>0.0855</td>\n",
       "      <td>0.2400</td>\n",
       "      <td>0.2400</td>\n",
       "      <td>0.955</td>\n",
       "      <td>152213</td>\n",
       "      <td>2</td>\n",
       "      <td>1</td>\n",
       "    </tr>\n",
       "    <tr>\n",
       "      <th>192</th>\n",
       "      <td>193</td>\n",
       "      <td>1970</td>\n",
       "      <td>Let It Be</td>\n",
       "      <td>get back</td>\n",
       "      <td>0.761</td>\n",
       "      <td>0.592</td>\n",
       "      <td>0.0586</td>\n",
       "      <td>0.4920</td>\n",
       "      <td>0.6100</td>\n",
       "      <td>0.332</td>\n",
       "      <td>189387</td>\n",
       "      <td>3</td>\n",
       "      <td>0</td>\n",
       "    </tr>\n",
       "  </tbody>\n",
       "</table>\n",
       "<p>193 rows × 13 columns</p>\n",
       "</div>"
      ],
      "text/plain": [
       "      id  year             album                       song  danceability  \\\n",
       "0      1  1963  Please Please Me   I Saw Her Standing There         0.491   \n",
       "1      2  1963  Please Please Me                     Misery         0.591   \n",
       "2      3  1963  Please Please Me                       Anna         0.608   \n",
       "3      4  1963  Please Please Me                     Chains         0.654   \n",
       "4      5  1963  Please Please Me                       Boys         0.402   \n",
       "..   ...   ...               ...                        ...           ...   \n",
       "188  189  1970         Let It Be          ive got a feeling         0.440   \n",
       "189  190  1970         Let It Be              one after 909         0.554   \n",
       "190  191  1970         Let It Be  the long and winding road         0.299   \n",
       "191  192  1970         Let It Be               for you blue         0.880   \n",
       "192  193  1970         Let It Be                   get back         0.761   \n",
       "\n",
       "     energy  speechiness  acousticness  liveness  valence  duration_ms  \\\n",
       "0     0.801       0.0361        0.2700    0.0665    0.971       173947   \n",
       "1     0.605       0.0413        0.7070    0.3090    0.882       108547   \n",
       "2     0.565       0.0336        0.6350    0.0601    0.835       177133   \n",
       "3     0.561       0.0304        0.6080    0.1290    0.929       145080   \n",
       "4     0.860       0.0504        0.6070    0.7360    0.822       146440   \n",
       "..      ...          ...           ...       ...      ...          ...   \n",
       "188   0.609       0.0358        0.0715    0.5820    0.364       217560   \n",
       "189   0.828       0.0739        0.0307    0.9070    0.888       173960   \n",
       "190   0.329       0.0279        0.7560    0.0559    0.392       218187   \n",
       "191   0.556       0.0855        0.2400    0.2400    0.955       152213   \n",
       "192   0.592       0.0586        0.4920    0.6100    0.332       189387   \n",
       "\n",
       "     Cluster  Cluster2  \n",
       "0          2         1  \n",
       "1          1         3  \n",
       "2          1         3  \n",
       "3          1         3  \n",
       "4          1         0  \n",
       "..       ...       ...  \n",
       "188        0         0  \n",
       "189        2         0  \n",
       "190        3         2  \n",
       "191        2         1  \n",
       "192        3         0  \n",
       "\n",
       "[193 rows x 13 columns]"
      ]
     },
     "execution_count": 41,
     "metadata": {},
     "output_type": "execute_result"
    }
   ],
   "source": [
    "df"
   ]
  },
  {
   "cell_type": "code",
   "execution_count": 42,
   "metadata": {},
   "outputs": [
    {
     "data": {
      "application/vnd.plotly.v1+json": {
       "config": {
        "plotlyServerURL": "https://plot.ly"
       },
       "data": [
        {
         "customdata": [
          [
           "I Saw Her Standing There",
           "Please Please Me",
           1963
          ],
          [
           "Misery",
           "Please Please Me",
           1963
          ],
          [
           "Anna",
           "Please Please Me",
           1963
          ],
          [
           "Chains",
           "Please Please Me",
           1963
          ],
          [
           "Boys",
           "Please Please Me",
           1963
          ],
          [
           "Ask Me Why",
           "Please Please Me",
           1963
          ],
          [
           "Please Please Me",
           "Please Please Me",
           1963
          ],
          [
           "Love Me Do",
           "Please Please Me",
           1963
          ],
          [
           "P.S. I Love You",
           "Please Please Me",
           1963
          ],
          [
           "Baby It's You",
           "Please Please Me",
           1963
          ],
          [
           "Do You Want to Know a Secret",
           "Please Please Me",
           1963
          ],
          [
           "Taste of Honey",
           "Please Please Me",
           1963
          ],
          [
           "There's a Place",
           "Please Please Me",
           1963
          ],
          [
           "Twist and Shout",
           "Please Please Me",
           1963
          ],
          [
           "It Wont Be Long",
           "With The Beatles",
           1963
          ],
          [
           "All I've Got To Do",
           "With The Beatles",
           1963
          ],
          [
           "All My Loving",
           "With The Beatles",
           1963
          ],
          [
           "Don’t Bother Me",
           "With The Beatles",
           1963
          ],
          [
           "Little Child",
           "With The Beatles",
           1963
          ],
          [
           "Till There Was You",
           "With The Beatles",
           1963
          ],
          [
           "Please Mister Postman",
           "With The Beatles",
           1963
          ],
          [
           "Roll Over Beethoven",
           "With The Beatles",
           1963
          ],
          [
           "Hold Me Tight",
           "With The Beatles",
           1963
          ],
          [
           "You Really Got A Hold On Me",
           "With The Beatles",
           1963
          ],
          [
           "I Wanna Be Your Man",
           "With The Beatles",
           1963
          ],
          [
           "Devil In Her Heart",
           "With The Beatles",
           1963
          ],
          [
           "Not A Second Time",
           "With The Beatles",
           1963
          ],
          [
           "Money(That’s What I Want)",
           "With The Beatles",
           1963
          ],
          [
           "A Hard Day's Night",
           "A Hard Day's Night",
           1964
          ],
          [
           "I should Have Known Better",
           "A Hard Day's Night",
           1964
          ],
          [
           "If I Fell",
           "A Hard Day's Night",
           1964
          ],
          [
           "Im Happy Just To Dance With You",
           "A Hard Day's Night",
           1964
          ],
          [
           "And I Love Her",
           "A Hard Day's Night",
           1964
          ],
          [
           "tell me why ",
           "A Hard Day's Night",
           1964
          ],
          [
           "cant buy me love",
           "A Hard Day's Night",
           1964
          ],
          [
           "any time at all",
           "A Hard Day's Night",
           1964
          ],
          [
           "ill cry instead",
           "A Hard Day's Night",
           1964
          ],
          [
           "things we said today",
           "A Hard Day's Night",
           1964
          ],
          [
           "when I get home",
           "A Hard Day's Night",
           1964
          ],
          [
           "you cant do that",
           "A Hard Day's Night",
           1964
          ],
          [
           "ill be back",
           "A Hard Day's Night",
           1964
          ],
          [
           "no reply",
           "Beatles for Sale",
           1964
          ],
          [
           "im a loser",
           "Beatles for Sale",
           1964
          ],
          [
           "babys in black",
           "Beatles for Sale",
           1964
          ],
          [
           "rock and roll music",
           "Beatles for Sale",
           1964
          ],
          [
           "ill follow the sun",
           "Beatles for Sale",
           1964
          ],
          [
           "mr.moonlight",
           "Beatles for Sale",
           1964
          ],
          [
           "kansas city/ Hey-Hey-Hey-Hey",
           "Beatles for Sale",
           1964
          ],
          [
           "eight days a week",
           "Beatles for Sale",
           1964
          ],
          [
           "words of love",
           "Beatles for Sale",
           1964
          ],
          [
           "honey don’t ",
           "Beatles for Sale",
           1964
          ],
          [
           "every little thing",
           "Beatles for Sale",
           1964
          ],
          [
           "I don’t want to spoil the party ",
           "Beatles for Sale",
           1964
          ],
          [
           "What youre doing",
           "Beatles for Sale",
           1964
          ],
          [
           "everybodys trying to be my baby",
           "Beatles for Sale",
           1964
          ],
          [
           "Help!",
           "Help!",
           1965
          ],
          [
           "the night before",
           "Help!",
           1965
          ],
          [
           "you’ve got to hide your love away",
           "Help!",
           1965
          ],
          [
           "I need you",
           "Help!",
           1965
          ],
          [
           "another girl",
           "Help!",
           1965
          ],
          [
           "youre going to lose that girl",
           "Help!",
           1965
          ],
          [
           "ticket to ride",
           "Help!",
           1965
          ],
          [
           "act naturally",
           "Help!",
           1965
          ],
          [
           "its only love",
           "Help!",
           1965
          ],
          [
           "you like me too much",
           "Help!",
           1965
          ],
          [
           "tell me what you see",
           "Help!",
           1965
          ],
          [
           "ive just seen a face",
           "Help!",
           1965
          ],
          [
           "yesterday",
           "Help!",
           1965
          ],
          [
           "dizzy miss lizzy",
           "Help!",
           1965
          ],
          [
           "drive my car",
           "Rubber Soul",
           1965
          ],
          [
           "norwegian wood",
           "Rubber Soul",
           1965
          ],
          [
           "you wont see me",
           "Rubber Soul",
           1965
          ],
          [
           "nowhere man",
           "Rubber Soul",
           1965
          ],
          [
           "think for yourself",
           "Rubber Soul",
           1965
          ],
          [
           "the word",
           "Rubber Soul",
           1965
          ],
          [
           "michelle",
           "Rubber Soul",
           1965
          ],
          [
           "what goes on",
           "Rubber Soul",
           1965
          ],
          [
           "girl",
           "Rubber Soul",
           1965
          ],
          [
           "im looking through you ",
           "Rubber Soul",
           1965
          ],
          [
           "in my life",
           "Rubber Soul",
           1965
          ],
          [
           "wait",
           "Rubber Soul",
           1965
          ],
          [
           "if I needed someone",
           "Rubber Soul",
           1965
          ],
          [
           "run for your life",
           "Rubber Soul",
           1965
          ],
          [
           "taxman",
           "Revolver",
           1966
          ],
          [
           "eleanor rigby",
           "Revolver",
           1966
          ],
          [
           "im only sleeping",
           "Revolver",
           1966
          ],
          [
           "love you to",
           "Revolver",
           1966
          ],
          [
           "here, there and everywhere",
           "Revolver",
           1966
          ],
          [
           "yellow submarine",
           "Revolver",
           1966
          ],
          [
           "she said she said ",
           "Revolver",
           1966
          ],
          [
           "good day sunshine",
           "Revolver",
           1966
          ],
          [
           "and your bird can sing",
           "Revolver",
           1966
          ],
          [
           "for no one",
           "Revolver",
           1966
          ],
          [
           "doctor robert",
           "Revolver",
           1966
          ],
          [
           "I want to tell you",
           "Revolver",
           1966
          ],
          [
           "got to get you into my life",
           "Revolver",
           1966
          ],
          [
           "tomorrow never knows",
           "Revolver",
           1966
          ],
          [
           "sgt.peppers lonely hearts club band",
           "Sgt. Pepper's Lonely Hearts Club Band",
           1967
          ],
          [
           "with a little help from my friends",
           "Sgt. Pepper's Lonely Hearts Club Band",
           1967
          ],
          [
           "lucy in the sky with diamonds",
           "Sgt. Pepper's Lonely Hearts Club Band",
           1967
          ],
          [
           "getting better",
           "Sgt. Pepper's Lonely Hearts Club Band",
           1967
          ],
          [
           "fixing a hole",
           "Sgt. Pepper's Lonely Hearts Club Band",
           1967
          ],
          [
           "shes leaving home",
           "Sgt. Pepper's Lonely Hearts Club Band",
           1967
          ],
          [
           "being for the benefit of mr.kite!",
           "Sgt. Pepper's Lonely Hearts Club Band",
           1967
          ],
          [
           "within you without you",
           "Sgt. Pepper's Lonely Hearts Club Band",
           1967
          ],
          [
           "when im sixty four",
           "Sgt. Pepper's Lonely Hearts Club Band",
           1967
          ],
          [
           "lovely rita",
           "Sgt. Pepper's Lonely Hearts Club Band",
           1967
          ],
          [
           "good morning good mornng",
           "Sgt. Pepper's Lonely Hearts Club Band",
           1967
          ],
          [
           "sgt. Peppers lonely hearts club band",
           "Sgt. Pepper's Lonely Hearts Club Band",
           1967
          ],
          [
           "a day in the life",
           "Sgt. Pepper's Lonely Hearts Club Band",
           1967
          ],
          [
           "magical mystery tour",
           "Magical Mystery Tour",
           1967
          ],
          [
           "the fool on the hill",
           "Magical Mystery Tour",
           1967
          ],
          [
           "flying ",
           "Magical Mystery Tour",
           1967
          ],
          [
           "blue jay way",
           "Magical Mystery Tour",
           1967
          ],
          [
           "your mother should know",
           "Magical Mystery Tour",
           1967
          ],
          [
           "I am the walrus",
           "Magical Mystery Tour",
           1967
          ],
          [
           "hello, goodbye",
           "Magical Mystery Tour",
           1967
          ],
          [
           "strawberry field forever",
           "Magical Mystery Tour",
           1967
          ],
          [
           "penny lane",
           "Magical Mystery Tour",
           1967
          ],
          [
           "baby, youre a rich man",
           "Magical Mystery Tour",
           1967
          ],
          [
           "all you need is love",
           "Magical Mystery Tour",
           1967
          ],
          [
           "back in the ussr",
           "The Beatles (white album)",
           1968
          ],
          [
           "dear prudence ",
           "The Beatles (white album)",
           1968
          ],
          [
           "glass onion",
           "The Beatles (white album)",
           1968
          ],
          [
           "obi-la -di, ob-la-da",
           "The Beatles (white album)",
           1968
          ],
          [
           "wild honey pie",
           "The Beatles (white album)",
           1968
          ],
          [
           "the continue story of bungalow bill",
           "The Beatles (white album)",
           1968
          ],
          [
           "while my guitar gently weeps",
           "The Beatles (white album)",
           1968
          ],
          [
           "happiness is a warm gem",
           "The Beatles (white album)",
           1968
          ],
          [
           "martha my dear",
           "The Beatles (white album)",
           1968
          ],
          [
           "im so tired",
           "The Beatles (white album)",
           1968
          ],
          [
           "blackbird",
           "The Beatles (white album)",
           1968
          ],
          [
           "piggies",
           "The Beatles (white album)",
           1968
          ],
          [
           "rocky raccoon",
           "The Beatles (white album)",
           1968
          ],
          [
           "don’t pass me by",
           "The Beatles (white album)",
           1968
          ],
          [
           "why don’t we do it in the road?",
           "The Beatles (white album)",
           1968
          ],
          [
           "I will",
           "The Beatles (white album)",
           1968
          ],
          [
           "julia",
           "The Beatles (white album)",
           1968
          ],
          [
           "birthday",
           "The Beatles (white album)",
           1968
          ],
          [
           "yer blue",
           "The Beatles (white album)",
           1968
          ],
          [
           "mother natures son",
           "The Beatles (white album)",
           1968
          ],
          [
           "everybodys got something to hide even you",
           "The Beatles (white album)",
           1968
          ],
          [
           "sexy sadie ",
           "The Beatles (white album)",
           1968
          ],
          [
           "helter skelter",
           "The Beatles (white album)",
           1968
          ],
          [
           "long, long. Long",
           "The Beatles (white album)",
           1968
          ],
          [
           "revolution 1",
           "The Beatles (white album)",
           1968
          ],
          [
           "honey pie",
           "The Beatles (white album)",
           1968
          ],
          [
           "savoy truffle",
           "The Beatles (white album)",
           1968
          ],
          [
           "cry baby cry",
           "The Beatles (white album)",
           1968
          ],
          [
           "revolution 9",
           "The Beatles (white album)",
           1968
          ],
          [
           "good night",
           "The Beatles (white album)",
           1968
          ],
          [
           "yellow submarine",
           "Yellow Submarine",
           1969
          ],
          [
           "only a northern song",
           "Yellow Submarine",
           1969
          ],
          [
           "all together now",
           "Yellow Submarine",
           1969
          ],
          [
           "hey bulldog",
           "Yellow Submarine",
           1969
          ],
          [
           "its all too much ",
           "Yellow Submarine",
           1969
          ],
          [
           "all you need is love",
           "Yellow Submarine",
           1969
          ],
          [
           "pepperland",
           "Yellow Submarine",
           1969
          ],
          [
           "sea of time ",
           "Yellow Submarine",
           1969
          ],
          [
           "sea of holes",
           "Yellow Submarine",
           1969
          ],
          [
           "sea of monsters",
           "Yellow Submarine",
           1969
          ],
          [
           "march of the meanies",
           "Yellow Submarine",
           1969
          ],
          [
           "pepperland laid waste",
           "Yellow Submarine",
           1969
          ],
          [
           "yellow submarine in pepperland",
           "Yellow Submarine",
           1969
          ],
          [
           "come together",
           "Abbey Road",
           1969
          ],
          [
           "something",
           "Abbey Road",
           1969
          ],
          [
           "maxwells silver hammer",
           "Abbey Road",
           1969
          ],
          [
           "oh! Darling",
           "Abbey Road",
           1969
          ],
          [
           "octopus's garden",
           "Abbey Road",
           1969
          ],
          [
           "I want you(she's so heavy)",
           "Abbey Road",
           1969
          ],
          [
           "Heres comes the sun",
           "Abbey Road",
           1969
          ],
          [
           "because",
           "Abbey Road",
           1969
          ],
          [
           "you never give me your money",
           "Abbey Road",
           1969
          ],
          [
           "sun king",
           "Abbey Road",
           1969
          ],
          [
           "mean mr mustard",
           "Abbey Road",
           1969
          ],
          [
           "polythene pam",
           "Abbey Road",
           1969
          ],
          [
           "she came in through the bathroom",
           "Abbey Road",
           1969
          ],
          [
           "golden slumbers",
           "Abbey Road",
           1969
          ],
          [
           "carry that weight ",
           "Abbey Road",
           1969
          ],
          [
           "the end ",
           "Abbey Road",
           1969
          ],
          [
           "her majesty",
           "Abbey Road",
           1969
          ],
          [
           "two of us",
           "Let It Be",
           1970
          ],
          [
           "dig a pony",
           "Let It Be",
           1970
          ],
          [
           "across the universe",
           "Let It Be",
           1970
          ],
          [
           "I me mine",
           "Let It Be",
           1970
          ],
          [
           "dig it ",
           "Let It Be",
           1970
          ],
          [
           "let it be ",
           "Let It Be",
           1970
          ],
          [
           "maggie mae",
           "Let It Be",
           1970
          ],
          [
           "ive got a feeling",
           "Let It Be",
           1970
          ],
          [
           "one after 909",
           "Let It Be",
           1970
          ],
          [
           "the long and winding road",
           "Let It Be",
           1970
          ],
          [
           "for you blue",
           "Let It Be",
           1970
          ],
          [
           "get back",
           "Let It Be",
           1970
          ]
         ],
         "hovertemplate": "acousticness=%{x}<br>valence=%{y}<br>liveness=%{z}<br>song=%{customdata[0]}<br>album=%{customdata[1]}<br>year=%{customdata[2]}<br>Cluster2=%{marker.color}<extra></extra>",
         "legendgroup": "",
         "marker": {
          "color": [
           1,
           3,
           3,
           3,
           0,
           3,
           1,
           1,
           1,
           3,
           3,
           2,
           3,
           3,
           1,
           1,
           1,
           3,
           1,
           3,
           3,
           1,
           3,
           3,
           3,
           1,
           1,
           3,
           1,
           1,
           3,
           1,
           3,
           3,
           1,
           1,
           1,
           4,
           3,
           1,
           3,
           3,
           3,
           3,
           3,
           3,
           3,
           0,
           3,
           1,
           3,
           3,
           3,
           1,
           3,
           1,
           1,
           4,
           1,
           1,
           1,
           1,
           1,
           1,
           3,
           1,
           3,
           2,
           1,
           1,
           1,
           4,
           1,
           1,
           1,
           3,
           1,
           3,
           1,
           4,
           1,
           1,
           1,
           1,
           3,
           1,
           3,
           2,
           3,
           0,
           3,
           1,
           3,
           4,
           4,
           3,
           4,
           0,
           1,
           1,
           1,
           1,
           2,
           1,
           0,
           3,
           1,
           0,
           0,
           0,
           4,
           2,
           4,
           4,
           3,
           0,
           1,
           4,
           4,
           4,
           1,
           4,
           4,
           1,
           1,
           0,
           0,
           1,
           2,
           3,
           3,
           2,
           3,
           1,
           3,
           3,
           3,
           2,
           1,
           4,
           2,
           1,
           1,
           0,
           2,
           0,
           2,
           1,
           4,
           2,
           2,
           3,
           1,
           0,
           1,
           4,
           1,
           2,
           2,
           2,
           2,
           2,
           2,
           2,
           4,
           4,
           3,
           4,
           1,
           4,
           4,
           2,
           4,
           4,
           1,
           4,
           1,
           4,
           1,
           4,
           2,
           1,
           3,
           1,
           4,
           3,
           2,
           4,
           0,
           0,
           2,
           1,
           0
          ],
          "coloraxis": "coloraxis",
          "symbol": "circle"
         },
         "mode": "markers",
         "name": "",
         "scene": "scene",
         "showlegend": false,
         "type": "scatter3d",
         "x": [
          0.27,
          0.707,
          0.635,
          0.608,
          0.607,
          0.767,
          0.334,
          0.386,
          0.389,
          0.778,
          0.608,
          0.698,
          0.629,
          0.641,
          0.284,
          0.217,
          0.207,
          0.554,
          0.292,
          0.79,
          0.675,
          0.289,
          0.664,
          0.525,
          0.477,
          0.227,
          0.213,
          0.425,
          0.137,
          0.257,
          0.68,
          0.138,
          0.64,
          0.586,
          0.283,
          0.366,
          0.0917,
          0.239,
          0.384,
          0.367,
          0.744,
          0.67,
          0.567,
          0.434,
          0.566,
          0.789,
          0.796,
          0.614,
          0.412,
          0.323,
          0.473,
          0.488,
          0.451,
          0.301,
          0.466,
          0.188,
          0.0537,
          0.207,
          0.277,
          0.238,
          0.346,
          0.0457,
          0.366,
          0.22,
          0.415,
          0.061,
          0.723,
          0.879,
          0.116,
          0.0173,
          0.183,
          0.136,
          0.00797,
          0.0124,
          0.00682,
          0.652,
          0.0168,
          0.587,
          0.00772,
          0.449,
          0.0175,
          0.00748,
          0.0103,
          0.0101,
          0.936,
          0.21,
          0.7,
          0.921,
          0.531,
          0.103,
          0.719,
          0.0067,
          0.783,
          0.164,
          0.182,
          0.42,
          0.000084,
          0.0857,
          0.365,
          0.0469,
          0.313,
          0.382,
          0.944,
          0.338,
          0.339,
          0.625,
          0.0634,
          0.0858,
          0.0061,
          0.29,
          0.0385,
          0.913,
          0.368,
          0.0258,
          0.784,
          0.0828,
          0.306,
          0.336,
          0.212,
          0.0119,
          0.346,
          0.069,
          0.16,
          0.0123,
          0.232,
          0.425,
          0.224,
          0.0205,
          0.523,
          0.872,
          0.656,
          0.754,
          0.643,
          0.333,
          0.594,
          0.53,
          0.742,
          0.828,
          0.0000737,
          0.000875,
          0.634,
          0.0207,
          0.33,
          0.000606,
          0.539,
          0.0785,
          0.88,
          0.00814,
          0.115,
          0.769,
          0.865,
          0.518,
          0.000341,
          0.0722,
          0.0197,
          0.000043,
          0.345,
          0.661,
          0.971,
          0.959,
          0.945,
          0.934,
          0.877,
          0.808,
          0.0302,
          0.198,
          0.629,
          0.0126,
          0.155,
          0.0233,
          0.0339,
          0.754,
          0.345,
          0.284,
          0.0699,
          0.00472,
          0.00376,
          0.326,
          0.226,
          0.00101,
          0.728,
          0.0974,
          0.472,
          0.361,
          0.179,
          0.659,
          0.631,
          0.379,
          0.0715,
          0.0307,
          0.756,
          0.24,
          0.492
         ],
         "y": [
          0.971,
          0.882,
          0.835,
          0.929,
          0.822,
          0.597,
          0.706,
          0.744,
          0.77,
          0.879,
          0.609,
          0.412,
          0.927,
          0.937,
          0.862,
          0.879,
          0.9,
          0.916,
          0.886,
          0.646,
          0.961,
          0.967,
          0.963,
          0.687,
          0.683,
          0.966,
          0.961,
          0.923,
          0.797,
          0.91,
          0.568,
          0.887,
          0.636,
          0.797,
          0.842,
          0.744,
          0.96,
          0.516,
          0.64,
          0.961,
          0.641,
          0.869,
          0.856,
          0.876,
          0.965,
          0.625,
          0.589,
          0.924,
          0.744,
          0.85,
          0.735,
          0.678,
          0.889,
          0.825,
          0.943,
          0.763,
          0.632,
          0.378,
          0.638,
          0.822,
          0.818,
          0.749,
          0.944,
          0.685,
          0.899,
          0.7,
          0.913,
          0.315,
          0.918,
          0.82,
          0.65,
          0.473,
          0.687,
          0.799,
          0.792,
          0.666,
          0.765,
          0.893,
          0.774,
          0.435,
          0.657,
          0.796,
          0.822,
          0.783,
          0.813,
          0.698,
          0.707,
          0.36,
          0.696,
          0.672,
          0.571,
          0.966,
          0.713,
          0.574,
          0.449,
          0.711,
          0.0534,
          0.583,
          0.803,
          0.668,
          0.764,
          0.619,
          0.393,
          0.71,
          0.354,
          0.661,
          0.63,
          0.93,
          0.879,
          0.175,
          0.338,
          0.49,
          0.261,
          0.0378,
          0.724,
          0.654,
          0.806,
          0.289,
          0.49,
          0.467,
          0.653,
          0.494,
          0.332,
          0.789,
          0.975,
          0.152,
          0.648,
          0.702,
          0.44,
          0.824,
          0.717,
          0.372,
          0.52,
          0.648,
          0.946,
          0.957,
          0.832,
          0.193,
          0.91,
          0.435,
          0.401,
          0.81,
          0.671,
          0.281,
          0.163,
          0.695,
          0.553,
          0.793,
          0.362,
          0.101,
          0.178,
          0.688,
          0.801,
          0.778,
          0.947,
          0.199,
          0.627,
          0.367,
          0.0629,
          0.0357,
          0.0489,
          0.16,
          0.0462,
          0.271,
          0.187,
          0.377,
          0.726,
          0.549,
          0.73,
          0.42,
          0.394,
          0.162,
          0.223,
          0.192,
          0.97,
          0.499,
          0.69,
          0.239,
          0.704,
          0.222,
          0.522,
          0.931,
          0.527,
          0.858,
          0.525,
          0.67,
          0.41,
          0.524,
          0.364,
          0.888,
          0.392,
          0.955,
          0.332
         ],
         "z": [
          0.0665,
          0.309,
          0.0601,
          0.129,
          0.736,
          0.0967,
          0.0702,
          0.227,
          0.0828,
          0.0926,
          0.38,
          0.104,
          0.172,
          0.0414,
          0.206,
          0.0644,
          0.343,
          0.299,
          0.353,
          0.105,
          0.36,
          0.0952,
          0.21,
          0.267,
          0.292,
          0.0438,
          0.498,
          0.266,
          0.0996,
          0.115,
          0.0877,
          0.0572,
          0.0681,
          0.307,
          0.321,
          0.437,
          0.253,
          0.112,
          0.388,
          0.382,
          0.186,
          0.172,
          0.267,
          0.098,
          0.333,
          0.144,
          0.118,
          0.877,
          0.119,
          0.173,
          0.0854,
          0.103,
          0.149,
          0.0583,
          0.134,
          0.0994,
          0.238,
          0.102,
          0.0988,
          0.333,
          0.26,
          0.233,
          0.153,
          0.0432,
          0.191,
          0.131,
          0.118,
          0.0886,
          0.0962,
          0.3,
          0.112,
          0.0538,
          0.128,
          0.0729,
          0.0553,
          0.105,
          0.0732,
          0.117,
          0.0481,
          0.113,
          0.105,
          0.102,
          0.0552,
          0.321,
          0.305,
          0.28,
          0.0829,
          0.0917,
          0.438,
          0.843,
          0.123,
          0.236,
          0.115,
          0.153,
          0.148,
          0.0838,
          0.342,
          0.797,
          0.389,
          0.139,
          0.0712,
          0.0783,
          0.106,
          0.0992,
          0.486,
          0.0868,
          0.118,
          0.772,
          0.892,
          0.922,
          0.0734,
          0.105,
          0.0932,
          0.0852,
          0.0936,
          0.589,
          0.414,
          0.0713,
          0.136,
          0.152,
          0.155,
          0.0608,
          0.108,
          0.108,
          0.251,
          0.789,
          0.656,
          0.172,
          0.169,
          0.128,
          0.539,
          0.0573,
          0.516,
          0.243,
          0.194,
          0.0993,
          0.0822,
          0.117,
          0.232,
          0.133,
          0.166,
          0.081,
          0.117,
          0.811,
          0.192,
          0.621,
          0.145,
          0.134,
          0.174,
          0.824,
          0.114,
          0.528,
          0.0846,
          0.561,
          0.199,
          0.1,
          0.286,
          0.243,
          0.203,
          0.454,
          0.135,
          0.456,
          0.302,
          0.15,
          0.0926,
          0.138,
          0.132,
          0.268,
          0.215,
          0.0966,
          0.179,
          0.134,
          0.116,
          0.116,
          0.351,
          0.19,
          0.314,
          0.113,
          0.298,
          0.138,
          0.13,
          0.239,
          0.17,
          0.0702,
          0.101,
          0.457,
          0.111,
          0.103,
          0.582,
          0.907,
          0.0559,
          0.24,
          0.61
         ]
        }
       ],
       "layout": {
        "coloraxis": {
         "colorbar": {
          "title": {
           "text": "Cluster2"
          }
         },
         "colorscale": [
          [
           0,
           "#0d0887"
          ],
          [
           0.1111111111111111,
           "#46039f"
          ],
          [
           0.2222222222222222,
           "#7201a8"
          ],
          [
           0.3333333333333333,
           "#9c179e"
          ],
          [
           0.4444444444444444,
           "#bd3786"
          ],
          [
           0.5555555555555556,
           "#d8576b"
          ],
          [
           0.6666666666666666,
           "#ed7953"
          ],
          [
           0.7777777777777778,
           "#fb9f3a"
          ],
          [
           0.8888888888888888,
           "#fdca26"
          ],
          [
           1,
           "#f0f921"
          ]
         ]
        },
        "legend": {
         "tracegroupgap": 0
        },
        "margin": {
         "t": 60
        },
        "scene": {
         "domain": {
          "x": [
           0,
           1
          ],
          "y": [
           0,
           1
          ]
         },
         "xaxis": {
          "title": {
           "text": "acousticness"
          }
         },
         "yaxis": {
          "title": {
           "text": "valence"
          }
         },
         "zaxis": {
          "title": {
           "text": "liveness"
          }
         }
        },
        "template": {
         "data": {
          "bar": [
           {
            "error_x": {
             "color": "#2a3f5f"
            },
            "error_y": {
             "color": "#2a3f5f"
            },
            "marker": {
             "line": {
              "color": "#E5ECF6",
              "width": 0.5
             },
             "pattern": {
              "fillmode": "overlay",
              "size": 10,
              "solidity": 0.2
             }
            },
            "type": "bar"
           }
          ],
          "barpolar": [
           {
            "marker": {
             "line": {
              "color": "#E5ECF6",
              "width": 0.5
             },
             "pattern": {
              "fillmode": "overlay",
              "size": 10,
              "solidity": 0.2
             }
            },
            "type": "barpolar"
           }
          ],
          "carpet": [
           {
            "aaxis": {
             "endlinecolor": "#2a3f5f",
             "gridcolor": "white",
             "linecolor": "white",
             "minorgridcolor": "white",
             "startlinecolor": "#2a3f5f"
            },
            "baxis": {
             "endlinecolor": "#2a3f5f",
             "gridcolor": "white",
             "linecolor": "white",
             "minorgridcolor": "white",
             "startlinecolor": "#2a3f5f"
            },
            "type": "carpet"
           }
          ],
          "choropleth": [
           {
            "colorbar": {
             "outlinewidth": 0,
             "ticks": ""
            },
            "type": "choropleth"
           }
          ],
          "contour": [
           {
            "colorbar": {
             "outlinewidth": 0,
             "ticks": ""
            },
            "colorscale": [
             [
              0,
              "#0d0887"
             ],
             [
              0.1111111111111111,
              "#46039f"
             ],
             [
              0.2222222222222222,
              "#7201a8"
             ],
             [
              0.3333333333333333,
              "#9c179e"
             ],
             [
              0.4444444444444444,
              "#bd3786"
             ],
             [
              0.5555555555555556,
              "#d8576b"
             ],
             [
              0.6666666666666666,
              "#ed7953"
             ],
             [
              0.7777777777777778,
              "#fb9f3a"
             ],
             [
              0.8888888888888888,
              "#fdca26"
             ],
             [
              1,
              "#f0f921"
             ]
            ],
            "type": "contour"
           }
          ],
          "contourcarpet": [
           {
            "colorbar": {
             "outlinewidth": 0,
             "ticks": ""
            },
            "type": "contourcarpet"
           }
          ],
          "heatmap": [
           {
            "colorbar": {
             "outlinewidth": 0,
             "ticks": ""
            },
            "colorscale": [
             [
              0,
              "#0d0887"
             ],
             [
              0.1111111111111111,
              "#46039f"
             ],
             [
              0.2222222222222222,
              "#7201a8"
             ],
             [
              0.3333333333333333,
              "#9c179e"
             ],
             [
              0.4444444444444444,
              "#bd3786"
             ],
             [
              0.5555555555555556,
              "#d8576b"
             ],
             [
              0.6666666666666666,
              "#ed7953"
             ],
             [
              0.7777777777777778,
              "#fb9f3a"
             ],
             [
              0.8888888888888888,
              "#fdca26"
             ],
             [
              1,
              "#f0f921"
             ]
            ],
            "type": "heatmap"
           }
          ],
          "heatmapgl": [
           {
            "colorbar": {
             "outlinewidth": 0,
             "ticks": ""
            },
            "colorscale": [
             [
              0,
              "#0d0887"
             ],
             [
              0.1111111111111111,
              "#46039f"
             ],
             [
              0.2222222222222222,
              "#7201a8"
             ],
             [
              0.3333333333333333,
              "#9c179e"
             ],
             [
              0.4444444444444444,
              "#bd3786"
             ],
             [
              0.5555555555555556,
              "#d8576b"
             ],
             [
              0.6666666666666666,
              "#ed7953"
             ],
             [
              0.7777777777777778,
              "#fb9f3a"
             ],
             [
              0.8888888888888888,
              "#fdca26"
             ],
             [
              1,
              "#f0f921"
             ]
            ],
            "type": "heatmapgl"
           }
          ],
          "histogram": [
           {
            "marker": {
             "pattern": {
              "fillmode": "overlay",
              "size": 10,
              "solidity": 0.2
             }
            },
            "type": "histogram"
           }
          ],
          "histogram2d": [
           {
            "colorbar": {
             "outlinewidth": 0,
             "ticks": ""
            },
            "colorscale": [
             [
              0,
              "#0d0887"
             ],
             [
              0.1111111111111111,
              "#46039f"
             ],
             [
              0.2222222222222222,
              "#7201a8"
             ],
             [
              0.3333333333333333,
              "#9c179e"
             ],
             [
              0.4444444444444444,
              "#bd3786"
             ],
             [
              0.5555555555555556,
              "#d8576b"
             ],
             [
              0.6666666666666666,
              "#ed7953"
             ],
             [
              0.7777777777777778,
              "#fb9f3a"
             ],
             [
              0.8888888888888888,
              "#fdca26"
             ],
             [
              1,
              "#f0f921"
             ]
            ],
            "type": "histogram2d"
           }
          ],
          "histogram2dcontour": [
           {
            "colorbar": {
             "outlinewidth": 0,
             "ticks": ""
            },
            "colorscale": [
             [
              0,
              "#0d0887"
             ],
             [
              0.1111111111111111,
              "#46039f"
             ],
             [
              0.2222222222222222,
              "#7201a8"
             ],
             [
              0.3333333333333333,
              "#9c179e"
             ],
             [
              0.4444444444444444,
              "#bd3786"
             ],
             [
              0.5555555555555556,
              "#d8576b"
             ],
             [
              0.6666666666666666,
              "#ed7953"
             ],
             [
              0.7777777777777778,
              "#fb9f3a"
             ],
             [
              0.8888888888888888,
              "#fdca26"
             ],
             [
              1,
              "#f0f921"
             ]
            ],
            "type": "histogram2dcontour"
           }
          ],
          "mesh3d": [
           {
            "colorbar": {
             "outlinewidth": 0,
             "ticks": ""
            },
            "type": "mesh3d"
           }
          ],
          "parcoords": [
           {
            "line": {
             "colorbar": {
              "outlinewidth": 0,
              "ticks": ""
             }
            },
            "type": "parcoords"
           }
          ],
          "pie": [
           {
            "automargin": true,
            "type": "pie"
           }
          ],
          "scatter": [
           {
            "fillpattern": {
             "fillmode": "overlay",
             "size": 10,
             "solidity": 0.2
            },
            "type": "scatter"
           }
          ],
          "scatter3d": [
           {
            "line": {
             "colorbar": {
              "outlinewidth": 0,
              "ticks": ""
             }
            },
            "marker": {
             "colorbar": {
              "outlinewidth": 0,
              "ticks": ""
             }
            },
            "type": "scatter3d"
           }
          ],
          "scattercarpet": [
           {
            "marker": {
             "colorbar": {
              "outlinewidth": 0,
              "ticks": ""
             }
            },
            "type": "scattercarpet"
           }
          ],
          "scattergeo": [
           {
            "marker": {
             "colorbar": {
              "outlinewidth": 0,
              "ticks": ""
             }
            },
            "type": "scattergeo"
           }
          ],
          "scattergl": [
           {
            "marker": {
             "colorbar": {
              "outlinewidth": 0,
              "ticks": ""
             }
            },
            "type": "scattergl"
           }
          ],
          "scattermapbox": [
           {
            "marker": {
             "colorbar": {
              "outlinewidth": 0,
              "ticks": ""
             }
            },
            "type": "scattermapbox"
           }
          ],
          "scatterpolar": [
           {
            "marker": {
             "colorbar": {
              "outlinewidth": 0,
              "ticks": ""
             }
            },
            "type": "scatterpolar"
           }
          ],
          "scatterpolargl": [
           {
            "marker": {
             "colorbar": {
              "outlinewidth": 0,
              "ticks": ""
             }
            },
            "type": "scatterpolargl"
           }
          ],
          "scatterternary": [
           {
            "marker": {
             "colorbar": {
              "outlinewidth": 0,
              "ticks": ""
             }
            },
            "type": "scatterternary"
           }
          ],
          "surface": [
           {
            "colorbar": {
             "outlinewidth": 0,
             "ticks": ""
            },
            "colorscale": [
             [
              0,
              "#0d0887"
             ],
             [
              0.1111111111111111,
              "#46039f"
             ],
             [
              0.2222222222222222,
              "#7201a8"
             ],
             [
              0.3333333333333333,
              "#9c179e"
             ],
             [
              0.4444444444444444,
              "#bd3786"
             ],
             [
              0.5555555555555556,
              "#d8576b"
             ],
             [
              0.6666666666666666,
              "#ed7953"
             ],
             [
              0.7777777777777778,
              "#fb9f3a"
             ],
             [
              0.8888888888888888,
              "#fdca26"
             ],
             [
              1,
              "#f0f921"
             ]
            ],
            "type": "surface"
           }
          ],
          "table": [
           {
            "cells": {
             "fill": {
              "color": "#EBF0F8"
             },
             "line": {
              "color": "white"
             }
            },
            "header": {
             "fill": {
              "color": "#C8D4E3"
             },
             "line": {
              "color": "white"
             }
            },
            "type": "table"
           }
          ]
         },
         "layout": {
          "annotationdefaults": {
           "arrowcolor": "#2a3f5f",
           "arrowhead": 0,
           "arrowwidth": 1
          },
          "autotypenumbers": "strict",
          "coloraxis": {
           "colorbar": {
            "outlinewidth": 0,
            "ticks": ""
           }
          },
          "colorscale": {
           "diverging": [
            [
             0,
             "#8e0152"
            ],
            [
             0.1,
             "#c51b7d"
            ],
            [
             0.2,
             "#de77ae"
            ],
            [
             0.3,
             "#f1b6da"
            ],
            [
             0.4,
             "#fde0ef"
            ],
            [
             0.5,
             "#f7f7f7"
            ],
            [
             0.6,
             "#e6f5d0"
            ],
            [
             0.7,
             "#b8e186"
            ],
            [
             0.8,
             "#7fbc41"
            ],
            [
             0.9,
             "#4d9221"
            ],
            [
             1,
             "#276419"
            ]
           ],
           "sequential": [
            [
             0,
             "#0d0887"
            ],
            [
             0.1111111111111111,
             "#46039f"
            ],
            [
             0.2222222222222222,
             "#7201a8"
            ],
            [
             0.3333333333333333,
             "#9c179e"
            ],
            [
             0.4444444444444444,
             "#bd3786"
            ],
            [
             0.5555555555555556,
             "#d8576b"
            ],
            [
             0.6666666666666666,
             "#ed7953"
            ],
            [
             0.7777777777777778,
             "#fb9f3a"
            ],
            [
             0.8888888888888888,
             "#fdca26"
            ],
            [
             1,
             "#f0f921"
            ]
           ],
           "sequentialminus": [
            [
             0,
             "#0d0887"
            ],
            [
             0.1111111111111111,
             "#46039f"
            ],
            [
             0.2222222222222222,
             "#7201a8"
            ],
            [
             0.3333333333333333,
             "#9c179e"
            ],
            [
             0.4444444444444444,
             "#bd3786"
            ],
            [
             0.5555555555555556,
             "#d8576b"
            ],
            [
             0.6666666666666666,
             "#ed7953"
            ],
            [
             0.7777777777777778,
             "#fb9f3a"
            ],
            [
             0.8888888888888888,
             "#fdca26"
            ],
            [
             1,
             "#f0f921"
            ]
           ]
          },
          "colorway": [
           "#636efa",
           "#EF553B",
           "#00cc96",
           "#ab63fa",
           "#FFA15A",
           "#19d3f3",
           "#FF6692",
           "#B6E880",
           "#FF97FF",
           "#FECB52"
          ],
          "font": {
           "color": "#2a3f5f"
          },
          "geo": {
           "bgcolor": "white",
           "lakecolor": "white",
           "landcolor": "#E5ECF6",
           "showlakes": true,
           "showland": true,
           "subunitcolor": "white"
          },
          "hoverlabel": {
           "align": "left"
          },
          "hovermode": "closest",
          "mapbox": {
           "style": "light"
          },
          "paper_bgcolor": "white",
          "plot_bgcolor": "#E5ECF6",
          "polar": {
           "angularaxis": {
            "gridcolor": "white",
            "linecolor": "white",
            "ticks": ""
           },
           "bgcolor": "#E5ECF6",
           "radialaxis": {
            "gridcolor": "white",
            "linecolor": "white",
            "ticks": ""
           }
          },
          "scene": {
           "xaxis": {
            "backgroundcolor": "#E5ECF6",
            "gridcolor": "white",
            "gridwidth": 2,
            "linecolor": "white",
            "showbackground": true,
            "ticks": "",
            "zerolinecolor": "white"
           },
           "yaxis": {
            "backgroundcolor": "#E5ECF6",
            "gridcolor": "white",
            "gridwidth": 2,
            "linecolor": "white",
            "showbackground": true,
            "ticks": "",
            "zerolinecolor": "white"
           },
           "zaxis": {
            "backgroundcolor": "#E5ECF6",
            "gridcolor": "white",
            "gridwidth": 2,
            "linecolor": "white",
            "showbackground": true,
            "ticks": "",
            "zerolinecolor": "white"
           }
          },
          "shapedefaults": {
           "line": {
            "color": "#2a3f5f"
           }
          },
          "ternary": {
           "aaxis": {
            "gridcolor": "white",
            "linecolor": "white",
            "ticks": ""
           },
           "baxis": {
            "gridcolor": "white",
            "linecolor": "white",
            "ticks": ""
           },
           "bgcolor": "#E5ECF6",
           "caxis": {
            "gridcolor": "white",
            "linecolor": "white",
            "ticks": ""
           }
          },
          "title": {
           "x": 0.05
          },
          "xaxis": {
           "automargin": true,
           "gridcolor": "white",
           "linecolor": "white",
           "ticks": "",
           "title": {
            "standoff": 15
           },
           "zerolinecolor": "white",
           "zerolinewidth": 2
          },
          "yaxis": {
           "automargin": true,
           "gridcolor": "white",
           "linecolor": "white",
           "ticks": "",
           "title": {
            "standoff": 15
           },
           "zerolinecolor": "white",
           "zerolinewidth": 2
          }
         }
        }
       }
      }
     },
     "metadata": {},
     "output_type": "display_data"
    }
   ],
   "source": [
    "px.scatter_3d(df,x='acousticness',y='valence',z='liveness',color='Cluster2',hover_data=['song','album','year'])"
   ]
  },
  {
   "cell_type": "markdown",
   "metadata": {},
   "source": [
    "## **Recommendation System**"
   ]
  },
  {
   "cell_type": "code",
   "execution_count": 43,
   "metadata": {},
   "outputs": [],
   "source": [
    "song=[]\n",
    "for i in df['song']:\n",
    "    song.append(i)"
   ]
  },
  {
   "cell_type": "code",
   "execution_count": 44,
   "metadata": {},
   "outputs": [
    {
     "data": {
      "text/plain": [
       "['I Saw Her Standing There',\n",
       " 'Misery',\n",
       " 'Anna',\n",
       " 'Chains',\n",
       " 'Boys',\n",
       " 'Ask Me Why',\n",
       " 'Please Please Me',\n",
       " 'Love Me Do',\n",
       " 'P.S. I Love You',\n",
       " \"Baby It's You\",\n",
       " 'Do You Want to Know a Secret',\n",
       " 'Taste of Honey',\n",
       " \"There's a Place\",\n",
       " 'Twist and Shout',\n",
       " 'It Wont Be Long',\n",
       " \"All I've Got To Do\",\n",
       " 'All My Loving',\n",
       " 'Don’t Bother Me',\n",
       " 'Little Child',\n",
       " 'Till There Was You',\n",
       " 'Please Mister Postman',\n",
       " 'Roll Over Beethoven',\n",
       " 'Hold Me Tight',\n",
       " 'You Really Got A Hold On Me',\n",
       " 'I Wanna Be Your Man',\n",
       " 'Devil In Her Heart',\n",
       " 'Not A Second Time',\n",
       " 'Money(That’s What I Want)',\n",
       " \"A Hard Day's Night\",\n",
       " 'I should Have Known Better',\n",
       " 'If I Fell',\n",
       " 'Im Happy Just To Dance With You',\n",
       " 'And I Love Her',\n",
       " 'tell me why ',\n",
       " 'cant buy me love',\n",
       " 'any time at all',\n",
       " 'ill cry instead',\n",
       " 'things we said today',\n",
       " 'when I get home',\n",
       " 'you cant do that',\n",
       " 'ill be back',\n",
       " 'no reply',\n",
       " 'im a loser',\n",
       " 'babys in black',\n",
       " 'rock and roll music',\n",
       " 'ill follow the sun',\n",
       " 'mr.moonlight',\n",
       " 'kansas city/ Hey-Hey-Hey-Hey',\n",
       " 'eight days a week',\n",
       " 'words of love',\n",
       " 'honey don’t ',\n",
       " 'every little thing',\n",
       " 'I don’t want to spoil the party ',\n",
       " 'What youre doing',\n",
       " 'everybodys trying to be my baby',\n",
       " 'Help!',\n",
       " 'the night before',\n",
       " 'you’ve got to hide your love away',\n",
       " 'I need you',\n",
       " 'another girl',\n",
       " 'youre going to lose that girl',\n",
       " 'ticket to ride',\n",
       " 'act naturally',\n",
       " 'its only love',\n",
       " 'you like me too much',\n",
       " 'tell me what you see',\n",
       " 'ive just seen a face',\n",
       " 'yesterday',\n",
       " 'dizzy miss lizzy',\n",
       " 'drive my car',\n",
       " 'norwegian wood',\n",
       " 'you wont see me',\n",
       " 'nowhere man',\n",
       " 'think for yourself',\n",
       " 'the word',\n",
       " 'michelle',\n",
       " 'what goes on',\n",
       " 'girl',\n",
       " 'im looking through you ',\n",
       " 'in my life',\n",
       " 'wait',\n",
       " 'if I needed someone',\n",
       " 'run for your life',\n",
       " 'taxman',\n",
       " 'eleanor rigby',\n",
       " 'im only sleeping',\n",
       " 'love you to',\n",
       " 'here, there and everywhere',\n",
       " 'yellow submarine',\n",
       " 'she said she said ',\n",
       " 'good day sunshine',\n",
       " 'and your bird can sing',\n",
       " 'for no one',\n",
       " 'doctor robert',\n",
       " 'I want to tell you',\n",
       " 'got to get you into my life',\n",
       " 'tomorrow never knows',\n",
       " 'sgt.peppers lonely hearts club band',\n",
       " 'with a little help from my friends',\n",
       " 'lucy in the sky with diamonds',\n",
       " 'getting better',\n",
       " 'fixing a hole',\n",
       " 'shes leaving home',\n",
       " 'being for the benefit of mr.kite!',\n",
       " 'within you without you',\n",
       " 'when im sixty four',\n",
       " 'lovely rita',\n",
       " 'good morning good mornng',\n",
       " 'sgt. Peppers lonely hearts club band',\n",
       " 'a day in the life',\n",
       " 'magical mystery tour',\n",
       " 'the fool on the hill',\n",
       " 'flying ',\n",
       " 'blue jay way',\n",
       " 'your mother should know',\n",
       " 'I am the walrus',\n",
       " 'hello, goodbye',\n",
       " 'strawberry field forever',\n",
       " 'penny lane',\n",
       " 'baby, youre a rich man',\n",
       " 'all you need is love',\n",
       " 'back in the ussr',\n",
       " 'dear prudence ',\n",
       " 'glass onion',\n",
       " 'obi-la -di, ob-la-da',\n",
       " 'wild honey pie',\n",
       " 'the continue story of bungalow bill',\n",
       " 'while my guitar gently weeps',\n",
       " 'happiness is a warm gem',\n",
       " 'martha my dear',\n",
       " 'im so tired',\n",
       " 'blackbird',\n",
       " 'piggies',\n",
       " 'rocky raccoon',\n",
       " 'don’t pass me by',\n",
       " 'why don’t we do it in the road?',\n",
       " 'I will',\n",
       " 'julia',\n",
       " 'birthday',\n",
       " 'yer blue',\n",
       " 'mother natures son',\n",
       " 'everybodys got something to hide even you',\n",
       " 'sexy sadie ',\n",
       " 'helter skelter',\n",
       " 'long, long. Long',\n",
       " 'revolution 1',\n",
       " 'honey pie',\n",
       " 'savoy truffle',\n",
       " 'cry baby cry',\n",
       " 'revolution 9',\n",
       " 'good night',\n",
       " 'yellow submarine',\n",
       " 'only a northern song',\n",
       " 'all together now',\n",
       " 'hey bulldog',\n",
       " 'its all too much ',\n",
       " 'all you need is love',\n",
       " 'pepperland',\n",
       " 'sea of time ',\n",
       " 'sea of holes',\n",
       " 'sea of monsters',\n",
       " 'march of the meanies',\n",
       " 'pepperland laid waste',\n",
       " 'yellow submarine in pepperland',\n",
       " 'come together',\n",
       " 'something',\n",
       " 'maxwells silver hammer',\n",
       " 'oh! Darling',\n",
       " \"octopus's garden\",\n",
       " \"I want you(she's so heavy)\",\n",
       " 'Heres comes the sun',\n",
       " 'because',\n",
       " 'you never give me your money',\n",
       " 'sun king',\n",
       " 'mean mr mustard',\n",
       " 'polythene pam',\n",
       " 'she came in through the bathroom',\n",
       " 'golden slumbers',\n",
       " 'carry that weight ',\n",
       " 'the end ',\n",
       " 'her majesty',\n",
       " 'two of us',\n",
       " 'dig a pony',\n",
       " 'across the universe',\n",
       " 'I me mine',\n",
       " 'dig it ',\n",
       " 'let it be ',\n",
       " 'maggie mae',\n",
       " 'ive got a feeling',\n",
       " 'one after 909',\n",
       " 'the long and winding road',\n",
       " 'for you blue',\n",
       " 'get back']"
      ]
     },
     "execution_count": 44,
     "metadata": {},
     "output_type": "execute_result"
    }
   ],
   "source": [
    "song"
   ]
  },
  {
   "cell_type": "code",
   "execution_count": 61,
   "metadata": {},
   "outputs": [],
   "source": [
    "def song_recommendation(name,df):\n",
    "    recommend=[]\n",
    "    a=np.array(df.loc[df['song']==name][['acousticness','valence','liveness']]).flatten()\n",
    "    for num in df['id']:\n",
    "        b=np.array(df.loc[df['id']==num][['acousticness','valence','liveness']]).flatten()\n",
    "        c=distance.euclidean(a,b)\n",
    "        recommend.append([df.loc[df['id']==num]['song'],c])\n",
    "        recommend.sort(key=lambda x:x[1])\n",
    "    return recommend[1]"
   ]
  },
  {
   "cell_type": "code",
   "execution_count": 63,
   "metadata": {},
   "outputs": [
    {
     "data": {
      "text/plain": [
       "[46    mr.moonlight\n",
       " Name: song, dtype: object,\n",
       " 0.03686041236882737]"
      ]
     },
     "execution_count": 63,
     "metadata": {},
     "output_type": "execute_result"
    }
   ],
   "source": [
    "song_recommendation('Ask Me Why',df)"
   ]
  },
  {
   "cell_type": "code",
   "execution_count": null,
   "metadata": {},
   "outputs": [],
   "source": []
  }
 ],
 "metadata": {
  "kernelspec": {
   "display_name": "Python 3",
   "language": "python",
   "name": "python3"
  },
  "language_info": {
   "codemirror_mode": {
    "name": "ipython",
    "version": 3
   },
   "file_extension": ".py",
   "mimetype": "text/x-python",
   "name": "python",
   "nbconvert_exporter": "python",
   "pygments_lexer": "ipython3",
   "version": "3.12.4"
  }
 },
 "nbformat": 4,
 "nbformat_minor": 2
}
